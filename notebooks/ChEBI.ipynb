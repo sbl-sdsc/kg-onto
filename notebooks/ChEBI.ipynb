{
 "cells": [
  {
   "cell_type": "markdown",
   "metadata": {},
   "source": [
    "# Create Node and Relationship files for ChEBI Taxonomy\n",
    "This notebook creates Node and Relationship files that represent the ChEBI ontology tree. The Ontology is retrieved from the [BioPortal](https://bioportal.bioontology.org/ontologies/CHEBI).\n",
    "\n",
    "The Node and Relationship files can be uploaded into a Neo4j Graph Database using the [kg-import](https://github.com/sbl-sdsc/kg-import)."
   ]
  },
  {
   "cell_type": "code",
   "execution_count": 1,
   "metadata": {},
   "outputs": [],
   "source": [
    "import os\n",
    "from pathlib import Path\n",
    "import pandas as pd\n",
    "from utils import parse_bioportal_csv"
   ]
  },
  {
   "cell_type": "code",
   "execution_count": 2,
   "metadata": {},
   "outputs": [],
   "source": [
    "# reload modules before executing user code\n",
    "%load_ext autoreload\n",
    "%autoreload 2"
   ]
  },
  {
   "cell_type": "code",
   "execution_count": 3,
   "metadata": {},
   "outputs": [],
   "source": [
    "# configure pandas dataframe\n",
    "pd.options.display.max_rows = None  # display all rows\n",
    "pd.options.display.max_columns = None  # display all columsns"
   ]
  },
  {
   "cell_type": "code",
   "execution_count": 4,
   "metadata": {},
   "outputs": [],
   "source": [
    "NODE_DIR = Path(os.getenv('NODE_DIR', default='../data'))\n",
    "RELATIONSHIP_DIR = Path(os.getenv('RELATIONSHIP_DIR', default='../data'))                   "
   ]
  },
  {
   "cell_type": "markdown",
   "metadata": {},
   "source": [
    "## ChEBI"
   ]
  },
  {
   "cell_type": "code",
   "execution_count": 5,
   "metadata": {},
   "outputs": [],
   "source": [
    "ontology_url = 'https://data.bioontology.org/ontologies/CHEBI/download?apikey=8b5b7825-538d-40e0-9e9e-5ab9274a9aeb&download_format=csv'"
   ]
  },
  {
   "cell_type": "code",
   "execution_count": 6,
   "metadata": {},
   "outputs": [],
   "source": [
    "curie = 'chebi'"
   ]
  },
  {
   "cell_type": "code",
   "execution_count": 7,
   "metadata": {},
   "outputs": [],
   "source": [
    "extra_properties = {'http://purl.obolibrary.org/obo/chebi/formula': 'formula',\n",
    "                    'http://purl.obolibrary.org/obo/chebi/inchikey': 'inchikey',\n",
    "                    'http://purl.obolibrary.org/obo/chebi/inchi': 'inchi',\n",
    "                    'http://purl.obolibrary.org/obo/chebi/mass': 'mass'}"
   ]
  },
  {
   "cell_type": "code",
   "execution_count": 8,
   "metadata": {},
   "outputs": [],
   "source": [
    "node_file_name = 'Compound.csv'\n",
    "relationship_file_name = 'Compound-IS_A-Compound.csv'"
   ]
  },
  {
   "cell_type": "markdown",
   "metadata": {},
   "source": [
    "## Parse ontology file and create node and relationship dataframes"
   ]
  },
  {
   "cell_type": "code",
   "execution_count": 9,
   "metadata": {},
   "outputs": [],
   "source": [
    "nodes, relationships = parse_bioportal_csv(ontology_url, extra_properties, curie)"
   ]
  },
  {
   "cell_type": "code",
   "execution_count": 10,
   "metadata": {},
   "outputs": [
    {
     "name": "stdout",
     "output_type": "stream",
     "text": [
      "Number of nodes: 176873\n"
     ]
    }
   ],
   "source": [
    "print('Number of nodes:', nodes.shape[0])"
   ]
  },
  {
   "cell_type": "markdown",
   "metadata": {},
   "source": [
    "Note: many compounds are missing the InChIKey! Filed a bug report with ChEBI."
   ]
  },
  {
   "cell_type": "code",
   "execution_count": 11,
   "metadata": {},
   "outputs": [
    {
     "name": "stdout",
     "output_type": "stream",
     "text": [
      "Number of compounds missing InChIKey: 41336\n"
     ]
    }
   ],
   "source": [
    "print('Number of compounds missing InChIKey:', nodes.query(\"inchikey == ''\").shape[0])"
   ]
  },
  {
   "cell_type": "code",
   "execution_count": 12,
   "metadata": {},
   "outputs": [
    {
     "data": {
      "text/html": [
       "<div>\n",
       "<style scoped>\n",
       "    .dataframe tbody tr th:only-of-type {\n",
       "        vertical-align: middle;\n",
       "    }\n",
       "\n",
       "    .dataframe tbody tr th {\n",
       "        vertical-align: top;\n",
       "    }\n",
       "\n",
       "    .dataframe thead th {\n",
       "        text-align: right;\n",
       "    }\n",
       "</style>\n",
       "<table border=\"1\" class=\"dataframe\">\n",
       "  <thead>\n",
       "    <tr style=\"text-align: right;\">\n",
       "      <th></th>\n",
       "      <th>id</th>\n",
       "      <th>name</th>\n",
       "      <th>synonyms</th>\n",
       "      <th>definition</th>\n",
       "      <th>url</th>\n",
       "      <th>formula</th>\n",
       "      <th>inchikey</th>\n",
       "      <th>inchi</th>\n",
       "      <th>mass</th>\n",
       "    </tr>\n",
       "  </thead>\n",
       "  <tbody>\n",
       "    <tr>\n",
       "      <th>0</th>\n",
       "      <td>chebi:CHEBI_101465</td>\n",
       "      <td>(2S,3S,4R)-4-(hydroxymethyl)-1-(2-methoxy-1-ox...</td>\n",
       "      <td></td>\n",
       "      <td></td>\n",
       "      <td>http://purl.obolibrary.org/obo/CHEBI_101465</td>\n",
       "      <td>C19H19N3O3</td>\n",
       "      <td>NONDGOMIDWLUNU-AOIWGVFYSA-N</td>\n",
       "      <td>InChI=1S/C19H19N3O3/c1-25-12-18(24)22-16(9-20)...</td>\n",
       "      <td>337.373</td>\n",
       "    </tr>\n",
       "    <tr>\n",
       "      <th>1</th>\n",
       "      <td>chebi:CHEBI_159237</td>\n",
       "      <td>Leu-His-Glu</td>\n",
       "      <td>(2S)-2-[[(2S)-2-[[(2S)-2-amino-4-methylpentano...</td>\n",
       "      <td></td>\n",
       "      <td>http://purl.obolibrary.org/obo/CHEBI_159237</td>\n",
       "      <td>C17H27N5O6</td>\n",
       "      <td>KXODZBLFVFSLAI-AVGNSLFASA-N</td>\n",
       "      <td>InChI=1S/C17H27N5O6/c1-9(2)5-11(18)15(25)22-13...</td>\n",
       "      <td>397.432</td>\n",
       "    </tr>\n",
       "    <tr>\n",
       "      <th>2</th>\n",
       "      <td>chebi:CHEBI_101448</td>\n",
       "      <td>2-fluoro-N-[(4S,7R,8S)-8-methoxy-4,7,10-trimet...</td>\n",
       "      <td></td>\n",
       "      <td></td>\n",
       "      <td>http://purl.obolibrary.org/obo/CHEBI_101448</td>\n",
       "      <td>C24H30FN3O4</td>\n",
       "      <td>ULFQVHHILZHREN-ZMPRRUGASA-N</td>\n",
       "      <td>InChI=1S/C24H30FN3O4/c1-15-12-26-16(2)14-32-21...</td>\n",
       "      <td>443.512</td>\n",
       "    </tr>\n",
       "    <tr>\n",
       "      <th>3</th>\n",
       "      <td>chebi:CHEBI_85476</td>\n",
       "      <td>O-hydroxyvaleroyl-L-carnitine</td>\n",
       "      <td>O-hydroxyvaleroyl-L-carnitines|O-hydroxyvalero...</td>\n",
       "      <td>An O-acyl-L-carnitine in which the acyl group ...</td>\n",
       "      <td>http://purl.obolibrary.org/obo/CHEBI_85476</td>\n",
       "      <td>C12H23NO5</td>\n",
       "      <td></td>\n",
       "      <td></td>\n",
       "      <td>261.31472</td>\n",
       "    </tr>\n",
       "    <tr>\n",
       "      <th>4</th>\n",
       "      <td>chebi:CHEBI_179157</td>\n",
       "      <td>Furfuryl propyl disulfide</td>\n",
       "      <td>2-[(propyldisulanyl)methyl]uran</td>\n",
       "      <td></td>\n",
       "      <td>http://purl.obolibrary.org/obo/CHEBI_179157</td>\n",
       "      <td>C8H12OS2</td>\n",
       "      <td>YCXWJNAAXGVFED-UHFFFAOYSA-N</td>\n",
       "      <td>InChI=1S/C8H12OS2/c1-2-6-10-11-7-8-4-3-5-9-8/h...</td>\n",
       "      <td>188.300</td>\n",
       "    </tr>\n",
       "  </tbody>\n",
       "</table>\n",
       "</div>"
      ],
      "text/plain": [
       "                   id                                               name  \\\n",
       "0  chebi:CHEBI_101465  (2S,3S,4R)-4-(hydroxymethyl)-1-(2-methoxy-1-ox...   \n",
       "1  chebi:CHEBI_159237                                        Leu-His-Glu   \n",
       "2  chebi:CHEBI_101448  2-fluoro-N-[(4S,7R,8S)-8-methoxy-4,7,10-trimet...   \n",
       "3   chebi:CHEBI_85476                      O-hydroxyvaleroyl-L-carnitine   \n",
       "4  chebi:CHEBI_179157                          Furfuryl propyl disulfide   \n",
       "\n",
       "                                            synonyms  \\\n",
       "0                                                      \n",
       "1  (2S)-2-[[(2S)-2-[[(2S)-2-amino-4-methylpentano...   \n",
       "2                                                      \n",
       "3  O-hydroxyvaleroyl-L-carnitines|O-hydroxyvalero...   \n",
       "4                    2-[(propyldisulanyl)methyl]uran   \n",
       "\n",
       "                                          definition  \\\n",
       "0                                                      \n",
       "1                                                      \n",
       "2                                                      \n",
       "3  An O-acyl-L-carnitine in which the acyl group ...   \n",
       "4                                                      \n",
       "\n",
       "                                           url      formula  \\\n",
       "0  http://purl.obolibrary.org/obo/CHEBI_101465   C19H19N3O3   \n",
       "1  http://purl.obolibrary.org/obo/CHEBI_159237   C17H27N5O6   \n",
       "2  http://purl.obolibrary.org/obo/CHEBI_101448  C24H30FN3O4   \n",
       "3   http://purl.obolibrary.org/obo/CHEBI_85476    C12H23NO5   \n",
       "4  http://purl.obolibrary.org/obo/CHEBI_179157     C8H12OS2   \n",
       "\n",
       "                      inchikey  \\\n",
       "0  NONDGOMIDWLUNU-AOIWGVFYSA-N   \n",
       "1  KXODZBLFVFSLAI-AVGNSLFASA-N   \n",
       "2  ULFQVHHILZHREN-ZMPRRUGASA-N   \n",
       "3                                \n",
       "4  YCXWJNAAXGVFED-UHFFFAOYSA-N   \n",
       "\n",
       "                                               inchi       mass  \n",
       "0  InChI=1S/C19H19N3O3/c1-25-12-18(24)22-16(9-20)...    337.373  \n",
       "1  InChI=1S/C17H27N5O6/c1-9(2)5-11(18)15(25)22-13...    397.432  \n",
       "2  InChI=1S/C24H30FN3O4/c1-15-12-26-16(2)14-32-21...    443.512  \n",
       "3                                                     261.31472  \n",
       "4  InChI=1S/C8H12OS2/c1-2-6-10-11-7-8-4-3-5-9-8/h...    188.300  "
      ]
     },
     "execution_count": 12,
     "metadata": {},
     "output_type": "execute_result"
    }
   ],
   "source": [
    "nodes.head()"
   ]
  },
  {
   "cell_type": "code",
   "execution_count": 13,
   "metadata": {},
   "outputs": [
    {
     "name": "stdout",
     "output_type": "stream",
     "text": [
      "Number of relationships: 229328\n"
     ]
    }
   ],
   "source": [
    "print('Number of relationships:', relationships.shape[0])"
   ]
  },
  {
   "cell_type": "code",
   "execution_count": 14,
   "metadata": {},
   "outputs": [
    {
     "data": {
      "text/html": [
       "<div>\n",
       "<style scoped>\n",
       "    .dataframe tbody tr th:only-of-type {\n",
       "        vertical-align: middle;\n",
       "    }\n",
       "\n",
       "    .dataframe tbody tr th {\n",
       "        vertical-align: top;\n",
       "    }\n",
       "\n",
       "    .dataframe thead th {\n",
       "        text-align: right;\n",
       "    }\n",
       "</style>\n",
       "<table border=\"1\" class=\"dataframe\">\n",
       "  <thead>\n",
       "    <tr style=\"text-align: right;\">\n",
       "      <th></th>\n",
       "      <th>from</th>\n",
       "      <th>to</th>\n",
       "    </tr>\n",
       "  </thead>\n",
       "  <tbody>\n",
       "    <tr>\n",
       "      <th>0</th>\n",
       "      <td>chebi:CHEBI_101465</td>\n",
       "      <td>chebi:CHEBI_38193</td>\n",
       "    </tr>\n",
       "    <tr>\n",
       "      <th>1</th>\n",
       "      <td>chebi:CHEBI_159237</td>\n",
       "      <td>chebi:CHEBI_25676</td>\n",
       "    </tr>\n",
       "    <tr>\n",
       "      <th>2</th>\n",
       "      <td>chebi:CHEBI_101448</td>\n",
       "      <td>chebi:CHEBI_52898</td>\n",
       "    </tr>\n",
       "    <tr>\n",
       "      <th>2</th>\n",
       "      <td>chebi:CHEBI_101448</td>\n",
       "      <td>chebi:CHEBI_24995</td>\n",
       "    </tr>\n",
       "    <tr>\n",
       "      <th>3</th>\n",
       "      <td>chebi:CHEBI_85476</td>\n",
       "      <td>chebi:CHEBI_133449</td>\n",
       "    </tr>\n",
       "  </tbody>\n",
       "</table>\n",
       "</div>"
      ],
      "text/plain": [
       "                 from                  to\n",
       "0  chebi:CHEBI_101465   chebi:CHEBI_38193\n",
       "1  chebi:CHEBI_159237   chebi:CHEBI_25676\n",
       "2  chebi:CHEBI_101448   chebi:CHEBI_52898\n",
       "2  chebi:CHEBI_101448   chebi:CHEBI_24995\n",
       "3   chebi:CHEBI_85476  chebi:CHEBI_133449"
      ]
     },
     "execution_count": 14,
     "metadata": {},
     "output_type": "execute_result"
    }
   ],
   "source": [
    "relationships.head()"
   ]
  },
  {
   "cell_type": "markdown",
   "metadata": {},
   "source": [
    "## Save files"
   ]
  },
  {
   "cell_type": "code",
   "execution_count": 15,
   "metadata": {},
   "outputs": [],
   "source": [
    "nodes.to_csv(NODE_DIR / node_file_name, index=False)"
   ]
  },
  {
   "cell_type": "code",
   "execution_count": 16,
   "metadata": {},
   "outputs": [],
   "source": [
    "relationships.to_csv(RELATIONSHIP_DIR / relationship_file_name, index=False)"
   ]
  }
 ],
 "metadata": {
  "kernelspec": {
   "display_name": "Python 3 (ipykernel)",
   "language": "python",
   "name": "python3"
  },
  "language_info": {
   "codemirror_mode": {
    "name": "ipython",
    "version": 3
   },
   "file_extension": ".py",
   "mimetype": "text/x-python",
   "name": "python",
   "nbconvert_exporter": "python",
   "pygments_lexer": "ipython3",
   "version": "3.7.12"
  }
 },
 "nbformat": 4,
 "nbformat_minor": 4
}
