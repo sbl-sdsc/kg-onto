{
 "cells": [
  {
   "cell_type": "markdown",
   "metadata": {},
   "source": [
    "# Create Node and Relationship files from a BioPortal Ontology\n",
    "This notebook converts ontology files from [BioPortal](https://bioportal.bioontology.org/) to Node and Relationship files that represent the ontology trees. \n",
    "\n",
    "The Node and Relationship files can be uploaded into a Neo4j Graph Database using the [kg-import](https://github.com/sbl-sdsc/kg-import)."
   ]
  },
  {
   "cell_type": "code",
   "execution_count": 1,
   "metadata": {},
   "outputs": [],
   "source": [
    "import os\n",
    "import re\n",
    "import glob\n",
    "from pathlib import Path\n",
    "import pandas as pd\n",
    "from utils import parse_bioportal_csv"
   ]
  },
  {
   "cell_type": "code",
   "execution_count": 2,
   "metadata": {},
   "outputs": [],
   "source": [
    "# reload modules before executing user code\n",
    "%load_ext autoreload\n",
    "%autoreload 2"
   ]
  },
  {
   "cell_type": "code",
   "execution_count": 3,
   "metadata": {},
   "outputs": [],
   "source": [
    "# configure pandas dataframe\n",
    "pd.options.display.max_rows = None  # display all rows\n",
    "pd.options.display.max_columns = None  # display all columsns\n",
    "pd.set_option('display.max_colwidth', None)"
   ]
  },
  {
   "cell_type": "code",
   "execution_count": 4,
   "metadata": {},
   "outputs": [],
   "source": [
    "MAPPINGS = os.getenv('MAPPINGS', default='../mappings/')"
   ]
  },
  {
   "cell_type": "code",
   "execution_count": 5,
   "metadata": {},
   "outputs": [],
   "source": [
    "NODE_METADATA = os.getenv('NODE_METADATA', default='../metadata/nodes/')\n",
    "RELATIONSHIP_METADATA = os.getenv('RELATIONSHIP_METADATA', default='../metadata/relationships/')                  "
   ]
  },
  {
   "cell_type": "code",
   "execution_count": 6,
   "metadata": {},
   "outputs": [],
   "source": [
    "if NODE_METADATA == '../metadata/nodes/':\n",
    "    os.makedirs(os.path.join(NODE_METADATA), exist_ok=True)"
   ]
  },
  {
   "cell_type": "code",
   "execution_count": 7,
   "metadata": {},
   "outputs": [],
   "source": [
    "if RELATIONSHIP_METADATA == '../metadata/relationships/':\n",
    "    os.makedirs(os.path.join(RELATIONSHIP_METADATA), exist_ok=True)"
   ]
  },
  {
   "cell_type": "code",
   "execution_count": 8,
   "metadata": {},
   "outputs": [],
   "source": [
    "NODE_DATA = os.getenv('NODE_DATA', default='../data/nodes/')\n",
    "RELATIONSHIP_DATA = os.getenv('RELATIONSHIP_DATA', default='../data/relationships/') "
   ]
  },
  {
   "cell_type": "code",
   "execution_count": 9,
   "metadata": {},
   "outputs": [],
   "source": [
    "if NODE_DATA == '../data/nodes/':\n",
    "    os.makedirs(os.path.join(NODE_DATA), exist_ok=True)"
   ]
  },
  {
   "cell_type": "code",
   "execution_count": 10,
   "metadata": {},
   "outputs": [],
   "source": [
    "if RELATIONSHIP_DATA == '../data/relationships/':\n",
    "    os.makedirs(os.path.join(RELATIONSHIP_DATA), exist_ok=True)"
   ]
  },
  {
   "cell_type": "code",
   "execution_count": 11,
   "metadata": {},
   "outputs": [],
   "source": [
    "config = pd.read_csv('../mappings/chebi.csv')\n",
    "#config = pd.read_csv('../mappings/mesh.csv')\n",
    "#config = pd.read_csv('../mappings/doid.csv')\n",
    "#config = pd.read_csv('../mappings/ncbi_taxonomy.csv')\n",
    "#config = pd.read_csv('../mappings/uberon.csv')"
   ]
  },
  {
   "cell_type": "code",
   "execution_count": 12,
   "metadata": {},
   "outputs": [
    {
     "data": {
      "text/html": [
       "<div>\n",
       "<style scoped>\n",
       "    .dataframe tbody tr th:only-of-type {\n",
       "        vertical-align: middle;\n",
       "    }\n",
       "\n",
       "    .dataframe tbody tr th {\n",
       "        vertical-align: top;\n",
       "    }\n",
       "\n",
       "    .dataframe thead th {\n",
       "        text-align: right;\n",
       "    }\n",
       "</style>\n",
       "<table border=\"1\" class=\"dataframe\">\n",
       "  <thead>\n",
       "    <tr style=\"text-align: right;\">\n",
       "      <th></th>\n",
       "      <th>key</th>\n",
       "      <th>value</th>\n",
       "    </tr>\n",
       "  </thead>\n",
       "  <tbody>\n",
       "    <tr>\n",
       "      <th>0</th>\n",
       "      <td>name</td>\n",
       "      <td>Chemical Entities of Biological Interest Ontology</td>\n",
       "    </tr>\n",
       "    <tr>\n",
       "      <th>1</th>\n",
       "      <td>downloadUrl</td>\n",
       "      <td>https://data.bioontology.org/ontologies/CHEBI/download?apikey=8b5b7825-538d-40e0-9e9e-5ab9274a9aeb&amp;download_format=csv</td>\n",
       "    </tr>\n",
       "    <tr>\n",
       "      <th>2</th>\n",
       "      <td>curie</td>\n",
       "      <td>chebi</td>\n",
       "    </tr>\n",
       "    <tr>\n",
       "      <th>3</th>\n",
       "      <td>nodeFilename</td>\n",
       "      <td>Compound_chebi_209-2022-03-10.csv</td>\n",
       "    </tr>\n",
       "    <tr>\n",
       "      <th>4</th>\n",
       "      <td>relationshipFilename</td>\n",
       "      <td>Compound-IS_A-Compound_chebi_209-2022-03-10.csv</td>\n",
       "    </tr>\n",
       "    <tr>\n",
       "      <th>5</th>\n",
       "      <td>http://purl.obolibrary.org/obo/chebi/inchi</td>\n",
       "      <td>inchi</td>\n",
       "    </tr>\n",
       "    <tr>\n",
       "      <th>6</th>\n",
       "      <td>http://purl.obolibrary.org/obo/chebi/inchikey</td>\n",
       "      <td>inchiKey</td>\n",
       "    </tr>\n",
       "    <tr>\n",
       "      <th>7</th>\n",
       "      <td>http://purl.obolibrary.org/obo/chebi/smiles</td>\n",
       "      <td>smiles</td>\n",
       "    </tr>\n",
       "    <tr>\n",
       "      <th>8</th>\n",
       "      <td>http://purl.obolibrary.org/obo/chebi/formula</td>\n",
       "      <td>formula</td>\n",
       "    </tr>\n",
       "    <tr>\n",
       "      <th>9</th>\n",
       "      <td>http://purl.obolibrary.org/obo/chebi/mass</td>\n",
       "      <td>mass</td>\n",
       "    </tr>\n",
       "    <tr>\n",
       "      <th>10</th>\n",
       "      <td>database_cross_reference</td>\n",
       "      <td>xref</td>\n",
       "    </tr>\n",
       "  </tbody>\n",
       "</table>\n",
       "</div>"
      ],
      "text/plain": [
       "                                              key  \\\n",
       "0                                            name   \n",
       "1                                     downloadUrl   \n",
       "2                                           curie   \n",
       "3                                    nodeFilename   \n",
       "4                            relationshipFilename   \n",
       "5      http://purl.obolibrary.org/obo/chebi/inchi   \n",
       "6   http://purl.obolibrary.org/obo/chebi/inchikey   \n",
       "7     http://purl.obolibrary.org/obo/chebi/smiles   \n",
       "8    http://purl.obolibrary.org/obo/chebi/formula   \n",
       "9       http://purl.obolibrary.org/obo/chebi/mass   \n",
       "10                       database_cross_reference   \n",
       "\n",
       "                                                                                                                     value  \n",
       "0                                                                        Chemical Entities of Biological Interest Ontology  \n",
       "1   https://data.bioontology.org/ontologies/CHEBI/download?apikey=8b5b7825-538d-40e0-9e9e-5ab9274a9aeb&download_format=csv  \n",
       "2                                                                                                                    chebi  \n",
       "3                                                                                        Compound_chebi_209-2022-03-10.csv  \n",
       "4                                                                          Compound-IS_A-Compound_chebi_209-2022-03-10.csv  \n",
       "5                                                                                                                    inchi  \n",
       "6                                                                                                                 inchiKey  \n",
       "7                                                                                                                   smiles  \n",
       "8                                                                                                                  formula  \n",
       "9                                                                                                                     mass  \n",
       "10                                                                                                                    xref  "
      ]
     },
     "execution_count": 12,
     "metadata": {},
     "output_type": "execute_result"
    }
   ],
   "source": [
    "config"
   ]
  },
  {
   "cell_type": "code",
   "execution_count": 13,
   "metadata": {},
   "outputs": [],
   "source": [
    "node_filename = config.query('key == \"nodeFilename\"').values[0][1]\n",
    "relationship_filename = config.query('key == \"relationshipFilename\"').values[0][1]"
   ]
  },
  {
   "cell_type": "markdown",
   "metadata": {},
   "source": [
    "## Parse ontology file and create node and relationship dataframes"
   ]
  },
  {
   "cell_type": "code",
   "execution_count": 14,
   "metadata": {},
   "outputs": [],
   "source": [
    "nodes, relationships = parse_bioportal_csv(config)"
   ]
  },
  {
   "cell_type": "code",
   "execution_count": 15,
   "metadata": {},
   "outputs": [
    {
     "name": "stdout",
     "output_type": "stream",
     "text": [
      "Number of nodes: 178080\n"
     ]
    },
    {
     "data": {
      "text/html": [
       "<div>\n",
       "<style scoped>\n",
       "    .dataframe tbody tr th:only-of-type {\n",
       "        vertical-align: middle;\n",
       "    }\n",
       "\n",
       "    .dataframe tbody tr th {\n",
       "        vertical-align: top;\n",
       "    }\n",
       "\n",
       "    .dataframe thead th {\n",
       "        text-align: right;\n",
       "    }\n",
       "</style>\n",
       "<table border=\"1\" class=\"dataframe\">\n",
       "  <thead>\n",
       "    <tr style=\"text-align: right;\">\n",
       "      <th></th>\n",
       "      <th>id</th>\n",
       "      <th>name</th>\n",
       "      <th>synonyms</th>\n",
       "      <th>definition</th>\n",
       "      <th>url</th>\n",
       "      <th>inchi</th>\n",
       "      <th>inchiKey</th>\n",
       "      <th>smiles</th>\n",
       "      <th>formula</th>\n",
       "      <th>mass</th>\n",
       "      <th>xref</th>\n",
       "    </tr>\n",
       "  </thead>\n",
       "  <tbody>\n",
       "    <tr>\n",
       "      <th>0</th>\n",
       "      <td>chebi:CHEBI_101465</td>\n",
       "      <td>(2S,3S,4R)-4-(hydroxymethyl)-1-(2-methoxy-1-oxoethyl)-3-[4-(3-pyridinyl)phenyl]-2-azetidinecarbonitrile</td>\n",
       "      <td></td>\n",
       "      <td></td>\n",
       "      <td>http://purl.obolibrary.org/obo/CHEBI_101465</td>\n",
       "      <td>InChI=1S/C19H19N3O3/c1-25-12-18(24)22-16(9-20)19(17(22)11-23)14-6-4-13(5-7-14)15-3-2-8-21-10-15/h2-8,10,16-17,19,23H,11-12H2,1H3/t16-,17+,19+/m1/s1</td>\n",
       "      <td>NONDGOMIDWLUNU-AOIWGVFYSA-N</td>\n",
       "      <td>COCC(=O)N1[C@H]([C@H]([C@H]1C#N)C2=CC=C(C=C2)C3=CN=CC=C3)CO</td>\n",
       "      <td>C19H19N3O3</td>\n",
       "      <td>337.373</td>\n",
       "      <td>LINCS:LSM-12828</td>\n",
       "    </tr>\n",
       "    <tr>\n",
       "      <th>1</th>\n",
       "      <td>chebi:CHEBI_159237</td>\n",
       "      <td>Leu-His-Glu</td>\n",
       "      <td>(2S)-2-[[(2S)-2-[[(2S)-2-amino-4-methylpentanoyl]amino]-3-(1H-imidazol-5-yl)propanoyl]amino]pentanedioic acid</td>\n",
       "      <td></td>\n",
       "      <td>http://purl.obolibrary.org/obo/CHEBI_159237</td>\n",
       "      <td>InChI=1S/C17H27N5O6/c1-9(2)5-11(18)15(25)22-13(6-10-7-19-8-20-10)16(26)21-12(17(27)28)3-4-14(23)24/h7-9,11-13H,3-6,18H2,1-2H3,(H,19,20)(H,21,26)(H,22,25)(H,23,24)(H,27,28)/t11-,12-,13-/m0/s1</td>\n",
       "      <td>KXODZBLFVFSLAI-AVGNSLFASA-N</td>\n",
       "      <td>O=C(N[C@@H](CC=1NC=NC1)C(=O)N[C@@H](CCC(O)=O)C(O)=O)[C@@H](N)CC(C)C</td>\n",
       "      <td>C17H27N5O6</td>\n",
       "      <td>397.432</td>\n",
       "      <td>Chemspider:58808728</td>\n",
       "    </tr>\n",
       "    <tr>\n",
       "      <th>2</th>\n",
       "      <td>chebi:CHEBI_101448</td>\n",
       "      <td>2-fluoro-N-[(4S,7R,8S)-8-methoxy-4,7,10-trimethyl-11-oxo-2-oxa-5,10-diazabicyclo[10.4.0]hexadeca-1(12),13,15-trien-14-yl]benzamide</td>\n",
       "      <td></td>\n",
       "      <td></td>\n",
       "      <td>http://purl.obolibrary.org/obo/CHEBI_101448</td>\n",
       "      <td>InChI=1S/C24H30FN3O4/c1-15-12-26-16(2)14-32-21-10-9-17(27-23(29)18-7-5-6-8-20(18)25)11-19(21)24(30)28(3)13-22(15)31-4/h5-11,15-16,22,26H,12-14H2,1-4H3,(H,27,29)/t15-,16+,22-/m1/s1</td>\n",
       "      <td>ULFQVHHILZHREN-ZMPRRUGASA-N</td>\n",
       "      <td>C[C@@H]1CN[C@H](COC2=C(C=C(C=C2)NC(=O)C3=CC=CC=C3F)C(=O)N(C[C@H]1OC)C)C</td>\n",
       "      <td>C24H30FN3O4</td>\n",
       "      <td>443.512</td>\n",
       "      <td>LINCS:LSM-12811</td>\n",
       "    </tr>\n",
       "    <tr>\n",
       "      <th>3</th>\n",
       "      <td>chebi:CHEBI_85476</td>\n",
       "      <td>O-hydroxyvaleroyl-L-carnitine</td>\n",
       "      <td>O-hydroxyvaleroyl-L-carnitines|O-hydroxyvaleroyl-(R)-carnitine|O-hydroxyvaleroyl-(R)-carnitines</td>\n",
       "      <td>An O-acyl-L-carnitine in which the acyl group specified is hydroxyvaleroyl in which the position of the hydroxy group is unspecified.</td>\n",
       "      <td>http://purl.obolibrary.org/obo/CHEBI_85476</td>\n",
       "      <td></td>\n",
       "      <td></td>\n",
       "      <td>C[N+](C)(C)C[C@@H](CC([O-])=O)OC([*])=O</td>\n",
       "      <td>C12H23NO5</td>\n",
       "      <td>261.31472</td>\n",
       "      <td></td>\n",
       "    </tr>\n",
       "    <tr>\n",
       "      <th>4</th>\n",
       "      <td>chebi:CHEBI_179157</td>\n",
       "      <td>Furfuryl propyl disulfide</td>\n",
       "      <td>2-[(propyldisulanyl)methyl]uran</td>\n",
       "      <td></td>\n",
       "      <td>http://purl.obolibrary.org/obo/CHEBI_179157</td>\n",
       "      <td>InChI=1S/C8H12OS2/c1-2-6-10-11-7-8-4-3-5-9-8/h3-5H,2,6-7H2,1H3</td>\n",
       "      <td>YCXWJNAAXGVFED-UHFFFAOYSA-N</td>\n",
       "      <td>S(SCC=1OC=CC1)CCC</td>\n",
       "      <td>C8H12OS2</td>\n",
       "      <td>188.300</td>\n",
       "      <td>CAS:252736-36-0|HMDB:HMDB0032289|Chemspider:19571925</td>\n",
       "    </tr>\n",
       "  </tbody>\n",
       "</table>\n",
       "</div>"
      ],
      "text/plain": [
       "                   id  \\\n",
       "0  chebi:CHEBI_101465   \n",
       "1  chebi:CHEBI_159237   \n",
       "2  chebi:CHEBI_101448   \n",
       "3   chebi:CHEBI_85476   \n",
       "4  chebi:CHEBI_179157   \n",
       "\n",
       "                                                                                                                                 name  \\\n",
       "0                             (2S,3S,4R)-4-(hydroxymethyl)-1-(2-methoxy-1-oxoethyl)-3-[4-(3-pyridinyl)phenyl]-2-azetidinecarbonitrile   \n",
       "1                                                                                                                         Leu-His-Glu   \n",
       "2  2-fluoro-N-[(4S,7R,8S)-8-methoxy-4,7,10-trimethyl-11-oxo-2-oxa-5,10-diazabicyclo[10.4.0]hexadeca-1(12),13,15-trien-14-yl]benzamide   \n",
       "3                                                                                                       O-hydroxyvaleroyl-L-carnitine   \n",
       "4                                                                                                           Furfuryl propyl disulfide   \n",
       "\n",
       "                                                                                                        synonyms  \\\n",
       "0                                                                                                                  \n",
       "1  (2S)-2-[[(2S)-2-[[(2S)-2-amino-4-methylpentanoyl]amino]-3-(1H-imidazol-5-yl)propanoyl]amino]pentanedioic acid   \n",
       "2                                                                                                                  \n",
       "3                O-hydroxyvaleroyl-L-carnitines|O-hydroxyvaleroyl-(R)-carnitine|O-hydroxyvaleroyl-(R)-carnitines   \n",
       "4                                                                                2-[(propyldisulanyl)methyl]uran   \n",
       "\n",
       "                                                                                                                              definition  \\\n",
       "0                                                                                                                                          \n",
       "1                                                                                                                                          \n",
       "2                                                                                                                                          \n",
       "3  An O-acyl-L-carnitine in which the acyl group specified is hydroxyvaleroyl in which the position of the hydroxy group is unspecified.   \n",
       "4                                                                                                                                          \n",
       "\n",
       "                                           url  \\\n",
       "0  http://purl.obolibrary.org/obo/CHEBI_101465   \n",
       "1  http://purl.obolibrary.org/obo/CHEBI_159237   \n",
       "2  http://purl.obolibrary.org/obo/CHEBI_101448   \n",
       "3   http://purl.obolibrary.org/obo/CHEBI_85476   \n",
       "4  http://purl.obolibrary.org/obo/CHEBI_179157   \n",
       "\n",
       "                                                                                                                                                                                            inchi  \\\n",
       "0                                             InChI=1S/C19H19N3O3/c1-25-12-18(24)22-16(9-20)19(17(22)11-23)14-6-4-13(5-7-14)15-3-2-8-21-10-15/h2-8,10,16-17,19,23H,11-12H2,1H3/t16-,17+,19+/m1/s1   \n",
       "1  InChI=1S/C17H27N5O6/c1-9(2)5-11(18)15(25)22-13(6-10-7-19-8-20-10)16(26)21-12(17(27)28)3-4-14(23)24/h7-9,11-13H,3-6,18H2,1-2H3,(H,19,20)(H,21,26)(H,22,25)(H,23,24)(H,27,28)/t11-,12-,13-/m0/s1   \n",
       "2             InChI=1S/C24H30FN3O4/c1-15-12-26-16(2)14-32-21-10-9-17(27-23(29)18-7-5-6-8-20(18)25)11-19(21)24(30)28(3)13-22(15)31-4/h5-11,15-16,22,26H,12-14H2,1-4H3,(H,27,29)/t15-,16+,22-/m1/s1   \n",
       "3                                                                                                                                                                                                   \n",
       "4                                                                                                                                  InChI=1S/C8H12OS2/c1-2-6-10-11-7-8-4-3-5-9-8/h3-5H,2,6-7H2,1H3   \n",
       "\n",
       "                      inchiKey  \\\n",
       "0  NONDGOMIDWLUNU-AOIWGVFYSA-N   \n",
       "1  KXODZBLFVFSLAI-AVGNSLFASA-N   \n",
       "2  ULFQVHHILZHREN-ZMPRRUGASA-N   \n",
       "3                                \n",
       "4  YCXWJNAAXGVFED-UHFFFAOYSA-N   \n",
       "\n",
       "                                                                    smiles  \\\n",
       "0              COCC(=O)N1[C@H]([C@H]([C@H]1C#N)C2=CC=C(C=C2)C3=CN=CC=C3)CO   \n",
       "1      O=C(N[C@@H](CC=1NC=NC1)C(=O)N[C@@H](CCC(O)=O)C(O)=O)[C@@H](N)CC(C)C   \n",
       "2  C[C@@H]1CN[C@H](COC2=C(C=C(C=C2)NC(=O)C3=CC=CC=C3F)C(=O)N(C[C@H]1OC)C)C   \n",
       "3                                  C[N+](C)(C)C[C@@H](CC([O-])=O)OC([*])=O   \n",
       "4                                                        S(SCC=1OC=CC1)CCC   \n",
       "\n",
       "       formula       mass  \\\n",
       "0   C19H19N3O3    337.373   \n",
       "1   C17H27N5O6    397.432   \n",
       "2  C24H30FN3O4    443.512   \n",
       "3    C12H23NO5  261.31472   \n",
       "4     C8H12OS2    188.300   \n",
       "\n",
       "                                                   xref  \n",
       "0                                       LINCS:LSM-12828  \n",
       "1                                   Chemspider:58808728  \n",
       "2                                       LINCS:LSM-12811  \n",
       "3                                                        \n",
       "4  CAS:252736-36-0|HMDB:HMDB0032289|Chemspider:19571925  "
      ]
     },
     "execution_count": 15,
     "metadata": {},
     "output_type": "execute_result"
    }
   ],
   "source": [
    "print('Number of nodes:', nodes.shape[0])\n",
    "nodes.head()"
   ]
  },
  {
   "cell_type": "code",
   "execution_count": 16,
   "metadata": {},
   "outputs": [
    {
     "name": "stdout",
     "output_type": "stream",
     "text": [
      "Number of relationships: 230979\n"
     ]
    },
    {
     "data": {
      "text/html": [
       "<div>\n",
       "<style scoped>\n",
       "    .dataframe tbody tr th:only-of-type {\n",
       "        vertical-align: middle;\n",
       "    }\n",
       "\n",
       "    .dataframe tbody tr th {\n",
       "        vertical-align: top;\n",
       "    }\n",
       "\n",
       "    .dataframe thead th {\n",
       "        text-align: right;\n",
       "    }\n",
       "</style>\n",
       "<table border=\"1\" class=\"dataframe\">\n",
       "  <thead>\n",
       "    <tr style=\"text-align: right;\">\n",
       "      <th></th>\n",
       "      <th>from</th>\n",
       "      <th>to</th>\n",
       "    </tr>\n",
       "  </thead>\n",
       "  <tbody>\n",
       "    <tr>\n",
       "      <th>0</th>\n",
       "      <td>chebi:CHEBI_101465</td>\n",
       "      <td>chebi:CHEBI_38193</td>\n",
       "    </tr>\n",
       "    <tr>\n",
       "      <th>1</th>\n",
       "      <td>chebi:CHEBI_159237</td>\n",
       "      <td>chebi:CHEBI_25676</td>\n",
       "    </tr>\n",
       "    <tr>\n",
       "      <th>2</th>\n",
       "      <td>chebi:CHEBI_101448</td>\n",
       "      <td>chebi:CHEBI_52898</td>\n",
       "    </tr>\n",
       "    <tr>\n",
       "      <th>3</th>\n",
       "      <td>chebi:CHEBI_101448</td>\n",
       "      <td>chebi:CHEBI_24995</td>\n",
       "    </tr>\n",
       "    <tr>\n",
       "      <th>4</th>\n",
       "      <td>chebi:CHEBI_85476</td>\n",
       "      <td>chebi:CHEBI_133449</td>\n",
       "    </tr>\n",
       "  </tbody>\n",
       "</table>\n",
       "</div>"
      ],
      "text/plain": [
       "                 from                  to\n",
       "0  chebi:CHEBI_101465   chebi:CHEBI_38193\n",
       "1  chebi:CHEBI_159237   chebi:CHEBI_25676\n",
       "2  chebi:CHEBI_101448   chebi:CHEBI_52898\n",
       "3  chebi:CHEBI_101448   chebi:CHEBI_24995\n",
       "4   chebi:CHEBI_85476  chebi:CHEBI_133449"
      ]
     },
     "execution_count": 16,
     "metadata": {},
     "output_type": "execute_result"
    }
   ],
   "source": [
    "print('Number of relationships:', relationships.shape[0])\n",
    "relationships.head()"
   ]
  },
  {
   "cell_type": "markdown",
   "metadata": {},
   "source": [
    "## Save data files"
   ]
  },
  {
   "cell_type": "code",
   "execution_count": 17,
   "metadata": {},
   "outputs": [],
   "source": [
    "nodes.to_csv(os.path.join(NODE_DATA, node_filename), index=False)"
   ]
  },
  {
   "cell_type": "code",
   "execution_count": 18,
   "metadata": {},
   "outputs": [],
   "source": [
    "relationships.to_csv(os.path.join(RELATIONSHIP_DATA, relationship_filename), index=False)"
   ]
  },
  {
   "cell_type": "markdown",
   "metadata": {
    "tags": []
   },
   "source": [
    "## Create Metadata files"
   ]
  },
  {
   "cell_type": "markdown",
   "metadata": {},
   "source": [
    "#### Pick a consise and representative example for the metadata file"
   ]
  },
  {
   "cell_type": "code",
   "execution_count": 19,
   "metadata": {},
   "outputs": [],
   "source": [
    "def example_score(row):\n",
    "    characters = 0\n",
    "    score = 0\n",
    "    \n",
    "    for item in row:\n",
    "        item = str(item)\n",
    "        characters += len(item)\n",
    "        # rows with the most complete data score higher\n",
    "        if item != '':\n",
    "            score += 1\n",
    "\n",
    "    # rows with multiple synomyms score highter\n",
    "    if '|' in row[2]:\n",
    "        score += 0.5\n",
    "         \n",
    "    # shorter rows score higher\n",
    "    score += len(row)/characters\n",
    "    return score"
   ]
  },
  {
   "cell_type": "code",
   "execution_count": 20,
   "metadata": {},
   "outputs": [],
   "source": [
    "nodes['score'] = nodes.apply(example_score, axis=1)"
   ]
  },
  {
   "cell_type": "code",
   "execution_count": 21,
   "metadata": {},
   "outputs": [],
   "source": [
    "nodes = nodes.sort_values(by='score', ascending=False)"
   ]
  },
  {
   "cell_type": "code",
   "execution_count": 22,
   "metadata": {},
   "outputs": [],
   "source": [
    "# pick example from place 50. The top scoring example is often atypical.\n",
    "pick = min(50, nodes.shape[0])\n",
    "example_row = nodes[50:]\n",
    "examples = list(example_row.values[0])"
   ]
  },
  {
   "cell_type": "markdown",
   "metadata": {},
   "source": [
    "#### Infer data types"
   ]
  },
  {
   "cell_type": "code",
   "execution_count": 23,
   "metadata": {},
   "outputs": [],
   "source": [
    "nodes = nodes.convert_dtypes()"
   ]
  },
  {
   "cell_type": "markdown",
   "metadata": {},
   "source": [
    "#### Create metadata dataframe"
   ]
  },
  {
   "cell_type": "markdown",
   "metadata": {},
   "source": [
    "Node metadata"
   ]
  },
  {
   "cell_type": "code",
   "execution_count": 24,
   "metadata": {},
   "outputs": [
    {
     "data": {
      "text/html": [
       "<div>\n",
       "<style scoped>\n",
       "    .dataframe tbody tr th:only-of-type {\n",
       "        vertical-align: middle;\n",
       "    }\n",
       "\n",
       "    .dataframe tbody tr th {\n",
       "        vertical-align: top;\n",
       "    }\n",
       "\n",
       "    .dataframe thead th {\n",
       "        text-align: right;\n",
       "    }\n",
       "</style>\n",
       "<table border=\"1\" class=\"dataframe\">\n",
       "  <thead>\n",
       "    <tr style=\"text-align: right;\">\n",
       "      <th></th>\n",
       "      <th>property</th>\n",
       "      <th>type</th>\n",
       "      <th>description</th>\n",
       "      <th>example</th>\n",
       "    </tr>\n",
       "  </thead>\n",
       "  <tbody>\n",
       "    <tr>\n",
       "      <th>0</th>\n",
       "      <td>id</td>\n",
       "      <td>string</td>\n",
       "      <td>id</td>\n",
       "      <td>chebi:CHEBI_75227</td>\n",
       "    </tr>\n",
       "    <tr>\n",
       "      <th>1</th>\n",
       "      <td>name</td>\n",
       "      <td>string</td>\n",
       "      <td>name</td>\n",
       "      <td>sodium metaborate</td>\n",
       "    </tr>\n",
       "    <tr>\n",
       "      <th>2</th>\n",
       "      <td>synonyms</td>\n",
       "      <td>string</td>\n",
       "      <td>synonyms</td>\n",
       "      <td>Sodium borate|Boric acid, monosodium salt|NaBO2</td>\n",
       "    </tr>\n",
       "    <tr>\n",
       "      <th>3</th>\n",
       "      <td>definition</td>\n",
       "      <td>string</td>\n",
       "      <td>definition</td>\n",
       "      <td>An inorganic sodium salt having metaborate as the counterion.</td>\n",
       "    </tr>\n",
       "    <tr>\n",
       "      <th>4</th>\n",
       "      <td>url</td>\n",
       "      <td>string</td>\n",
       "      <td>url</td>\n",
       "      <td>http://purl.obolibrary.org/obo/CHEBI_75227</td>\n",
       "    </tr>\n",
       "    <tr>\n",
       "      <th>5</th>\n",
       "      <td>inchi</td>\n",
       "      <td>string</td>\n",
       "      <td>inchi</td>\n",
       "      <td>InChI=1S/BO2.Na/c2-1-3;/q-1;+1</td>\n",
       "    </tr>\n",
       "    <tr>\n",
       "      <th>6</th>\n",
       "      <td>inchiKey</td>\n",
       "      <td>string</td>\n",
       "      <td>inchiKey</td>\n",
       "      <td>NVIFVTYDZMXWGX-UHFFFAOYSA-N</td>\n",
       "    </tr>\n",
       "    <tr>\n",
       "      <th>7</th>\n",
       "      <td>smiles</td>\n",
       "      <td>string</td>\n",
       "      <td>smiles</td>\n",
       "      <td>[Na+].[O-]B=O</td>\n",
       "    </tr>\n",
       "    <tr>\n",
       "      <th>8</th>\n",
       "      <td>formula</td>\n",
       "      <td>string</td>\n",
       "      <td>formula</td>\n",
       "      <td>BNaO2</td>\n",
       "    </tr>\n",
       "    <tr>\n",
       "      <th>9</th>\n",
       "      <td>mass</td>\n",
       "      <td>string</td>\n",
       "      <td>mass</td>\n",
       "      <td>65.80000</td>\n",
       "    </tr>\n",
       "    <tr>\n",
       "      <th>10</th>\n",
       "      <td>xref</td>\n",
       "      <td>string</td>\n",
       "      <td>xref</td>\n",
       "      <td>CAS:7775-19-1|Reaxys:11343079</td>\n",
       "    </tr>\n",
       "  </tbody>\n",
       "</table>\n",
       "</div>"
      ],
      "text/plain": [
       "      property    type description  \\\n",
       "0           id  string          id   \n",
       "1         name  string        name   \n",
       "2     synonyms  string    synonyms   \n",
       "3   definition  string  definition   \n",
       "4          url  string         url   \n",
       "5        inchi  string       inchi   \n",
       "6     inchiKey  string    inchiKey   \n",
       "7       smiles  string      smiles   \n",
       "8      formula  string     formula   \n",
       "9         mass  string        mass   \n",
       "10        xref  string        xref   \n",
       "\n",
       "                                                          example  \n",
       "0                                               chebi:CHEBI_75227  \n",
       "1                                               sodium metaborate  \n",
       "2                 Sodium borate|Boric acid, monosodium salt|NaBO2  \n",
       "3   An inorganic sodium salt having metaborate as the counterion.  \n",
       "4                      http://purl.obolibrary.org/obo/CHEBI_75227  \n",
       "5                                  InChI=1S/BO2.Na/c2-1-3;/q-1;+1  \n",
       "6                                     NVIFVTYDZMXWGX-UHFFFAOYSA-N  \n",
       "7                                                   [Na+].[O-]B=O  \n",
       "8                                                           BNaO2  \n",
       "9                                                        65.80000  \n",
       "10                                  CAS:7775-19-1|Reaxys:11343079  "
      ]
     },
     "execution_count": 24,
     "metadata": {},
     "output_type": "execute_result"
    }
   ],
   "source": [
    "metadata = []\n",
    "for node, dtype, exmpl in zip(nodes.columns, nodes.dtypes, examples):\n",
    "    metadata.append({'property': node, 'type': dtype, 'description': node, 'example': exmpl})\n",
    "    \n",
    "node_metadata = pd.DataFrame(metadata)\n",
    "# remove last row ('score')\n",
    "node_metadata = node_metadata[:-1]\n",
    "node_metadata"
   ]
  },
  {
   "cell_type": "markdown",
   "metadata": {},
   "source": [
    "Relationship metadata"
   ]
  },
  {
   "cell_type": "code",
   "execution_count": 25,
   "metadata": {},
   "outputs": [],
   "source": [
    "source = node_metadata['example'][0]\n",
    "example_rel = relationships[relationships['from'] == source].copy()\n",
    "example_rel = example_rel.reset_index(drop=True)"
   ]
  },
  {
   "cell_type": "code",
   "execution_count": 26,
   "metadata": {},
   "outputs": [
    {
     "data": {
      "text/html": [
       "<div>\n",
       "<style scoped>\n",
       "    .dataframe tbody tr th:only-of-type {\n",
       "        vertical-align: middle;\n",
       "    }\n",
       "\n",
       "    .dataframe tbody tr th {\n",
       "        vertical-align: top;\n",
       "    }\n",
       "\n",
       "    .dataframe thead th {\n",
       "        text-align: right;\n",
       "    }\n",
       "</style>\n",
       "<table border=\"1\" class=\"dataframe\">\n",
       "  <thead>\n",
       "    <tr style=\"text-align: right;\">\n",
       "      <th></th>\n",
       "      <th>property</th>\n",
       "      <th>type</th>\n",
       "      <th>description</th>\n",
       "      <th>example</th>\n",
       "    </tr>\n",
       "  </thead>\n",
       "  <tbody>\n",
       "    <tr>\n",
       "      <th>0</th>\n",
       "      <td>from</td>\n",
       "      <td>string</td>\n",
       "      <td>Id of source node</td>\n",
       "      <td>chebi:CHEBI_75227</td>\n",
       "    </tr>\n",
       "    <tr>\n",
       "      <th>1</th>\n",
       "      <td>to</td>\n",
       "      <td>string</td>\n",
       "      <td>Id of target node</td>\n",
       "      <td>chebi:CHEBI_38702</td>\n",
       "    </tr>\n",
       "  </tbody>\n",
       "</table>\n",
       "</div>"
      ],
      "text/plain": [
       "  property    type        description            example\n",
       "0     from  string  Id of source node  chebi:CHEBI_75227\n",
       "1       to  string  Id of target node  chebi:CHEBI_38702"
      ]
     },
     "execution_count": 26,
     "metadata": {},
     "output_type": "execute_result"
    }
   ],
   "source": [
    "metadata = [{'property': 'from', 'type': 'string', 'description': 'Id of source node', 'example': example_rel['from'][0]},\n",
    "            {'property': 'to', 'type': 'string', 'description': 'Id of target node', 'example': example_rel['to'][0]}]\n",
    "\n",
    "relationship_metadata = pd.DataFrame(metadata)\n",
    "relationship_metadata"
   ]
  },
  {
   "cell_type": "markdown",
   "metadata": {},
   "source": [
    "## Save metadata files"
   ]
  },
  {
   "cell_type": "code",
   "execution_count": 27,
   "metadata": {},
   "outputs": [],
   "source": [
    "node_metadata_filename = re.split('\\.|_', node_filename)[0]\n",
    "node_metadata_filename += '.csv'\n",
    "\n",
    "# split nodes from relationship\n",
    "parts = relationship_filename.split('-', 2)\n",
    "source_node = parts[0]\n",
    "relationship = parts[1]\n",
    "# remove any extra tag separated by underscore\n",
    "target_node = parts[2].split('_')[0]\n",
    "relationship_metadata_filename = source_node + '-' + relationship + '-' + target_node + '.csv'\n",
    "    \n",
    "node_metadata.to_csv(os.path.join(NODE_METADATA, node_metadata_filename), index=False)\n",
    "relationship_metadata.to_csv(os.path.join(RELATIONSHIP_METADATA, relationship_metadata_filename), index=False)"
   ]
  }
 ],
 "metadata": {
  "kernelspec": {
   "display_name": "Python 3 (ipykernel)",
   "language": "python",
   "name": "python3"
  },
  "language_info": {
   "codemirror_mode": {
    "name": "ipython",
    "version": 3
   },
   "file_extension": ".py",
   "mimetype": "text/x-python",
   "name": "python",
   "nbconvert_exporter": "python",
   "pygments_lexer": "ipython3",
   "version": "3.7.12"
  }
 },
 "nbformat": 4,
 "nbformat_minor": 4
}
