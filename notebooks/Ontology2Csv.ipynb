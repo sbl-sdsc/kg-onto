{
 "cells": [
  {
   "cell_type": "markdown",
   "metadata": {},
   "source": [
    "# Create Node and Relationship files from a BioPortal Ontology\n",
    "This notebook converts ontology files from [BioPortal](https://bioportal.bioontology.org/) to Node and Relationship files that represent the ontology trees. \n",
    "\n",
    "The Node and Relationship files can be uploaded into a Neo4j Graph Database using the [kg-import](https://github.com/sbl-sdsc/kg-import)."
   ]
  },
  {
   "cell_type": "code",
   "execution_count": 1,
   "metadata": {},
   "outputs": [],
   "source": [
    "import os\n",
    "import re\n",
    "import glob\n",
    "from pathlib import Path\n",
    "import pandas as pd\n",
    "from utils import parse_bioportal_csv"
   ]
  },
  {
   "cell_type": "code",
   "execution_count": 2,
   "metadata": {},
   "outputs": [],
   "source": [
    "# reload modules before executing user code\n",
    "%load_ext autoreload\n",
    "%autoreload 2"
   ]
  },
  {
   "cell_type": "code",
   "execution_count": 3,
   "metadata": {},
   "outputs": [],
   "source": [
    "# configure pandas dataframe\n",
    "pd.options.display.max_rows = None  # display all rows\n",
    "pd.options.display.max_columns = None  # display all columsns\n",
    "pd.set_option('display.max_colwidth', None)"
   ]
  },
  {
   "cell_type": "code",
   "execution_count": 4,
   "metadata": {},
   "outputs": [],
   "source": [
    "MAPPINGS = os.getenv('MAPPINGS', default='../mappings/')"
   ]
  },
  {
   "cell_type": "code",
   "execution_count": 5,
   "metadata": {},
   "outputs": [],
   "source": [
    "NODE_METADATA = os.getenv('NODE_METADATA', default='../metadata/nodes/')\n",
    "RELATIONSHIP_METADATA = os.getenv('RELATIONSHIP_METADATA', default='../metadata/relationships/')                  "
   ]
  },
  {
   "cell_type": "code",
   "execution_count": 6,
   "metadata": {},
   "outputs": [],
   "source": [
    "if NODE_METADATA == '../metadata/nodes/':\n",
    "    os.makedirs(os.path.join(NODE_METADATA), exist_ok=True)"
   ]
  },
  {
   "cell_type": "code",
   "execution_count": 7,
   "metadata": {},
   "outputs": [],
   "source": [
    "if RELATIONSHIP_METADATA == '../metadata/relationships/':\n",
    "    os.makedirs(os.path.join(RELATIONSHIP_METADATA), exist_ok=True)"
   ]
  },
  {
   "cell_type": "code",
   "execution_count": 8,
   "metadata": {},
   "outputs": [],
   "source": [
    "NODE_DATA = os.getenv('NODE_DATA', default='../data/nodes/')\n",
    "RELATIONSHIP_DATA = os.getenv('RELATIONSHIP_DATA', default='../data/relationships/') "
   ]
  },
  {
   "cell_type": "code",
   "execution_count": 9,
   "metadata": {},
   "outputs": [],
   "source": [
    "if NODE_DATA == '../data/nodes/':\n",
    "    os.makedirs(os.path.join(NODE_DATA), exist_ok=True)"
   ]
  },
  {
   "cell_type": "code",
   "execution_count": 10,
   "metadata": {},
   "outputs": [],
   "source": [
    "if RELATIONSHIP_DATA == '../data/relationships/':\n",
    "    os.makedirs(os.path.join(RELATIONSHIP_DATA), exist_ok=True)"
   ]
  },
  {
   "cell_type": "code",
   "execution_count": 11,
   "metadata": {},
   "outputs": [],
   "source": [
    "#config = pd.read_csv('../mappings/chebi.csv')\n",
    "#config = pd.read_csv('../mappings/mesh.csv')\n",
    "#config = pd.read_csv('../mappings/ncit.csv')\n",
    "#config = pd.read_csv('../mappings/doid.csv')\n",
    "config = pd.read_csv('../mappings/mondo.csv')\n",
    "#config = pd.read_csv('../mappings/ncbi_taxonomy.csv')\n",
    "#config = pd.read_csv('../mappings/uberon.csv')"
   ]
  },
  {
   "cell_type": "code",
   "execution_count": 12,
   "metadata": {},
   "outputs": [
    {
     "data": {
      "text/html": [
       "<div>\n",
       "<style scoped>\n",
       "    .dataframe tbody tr th:only-of-type {\n",
       "        vertical-align: middle;\n",
       "    }\n",
       "\n",
       "    .dataframe tbody tr th {\n",
       "        vertical-align: top;\n",
       "    }\n",
       "\n",
       "    .dataframe thead th {\n",
       "        text-align: right;\n",
       "    }\n",
       "</style>\n",
       "<table border=\"1\" class=\"dataframe\">\n",
       "  <thead>\n",
       "    <tr style=\"text-align: right;\">\n",
       "      <th></th>\n",
       "      <th>key</th>\n",
       "      <th>value</th>\n",
       "    </tr>\n",
       "  </thead>\n",
       "  <tbody>\n",
       "    <tr>\n",
       "      <th>0</th>\n",
       "      <td>name</td>\n",
       "      <td>Mondo Disease Ontology (Mondo)</td>\n",
       "    </tr>\n",
       "    <tr>\n",
       "      <th>1</th>\n",
       "      <td>downloadUrl</td>\n",
       "      <td>https://data.bioontology.org/ontologies/MONDO/download?apikey=8b5b7825-538d-40e0-9e9e-5ab9274a9aeb&amp;download_format=csv</td>\n",
       "    </tr>\n",
       "    <tr>\n",
       "      <th>2</th>\n",
       "      <td>curie</td>\n",
       "      <td>mondo</td>\n",
       "    </tr>\n",
       "    <tr>\n",
       "      <th>3</th>\n",
       "      <td>nodeFilename</td>\n",
       "      <td>Disease_mondo_2021-01-29.csv</td>\n",
       "    </tr>\n",
       "    <tr>\n",
       "      <th>4</th>\n",
       "      <td>relationshipFilename</td>\n",
       "      <td>Disease-IS_A-Disease_mondo_2021-01-29.csv</td>\n",
       "    </tr>\n",
       "  </tbody>\n",
       "</table>\n",
       "</div>"
      ],
      "text/plain": [
       "                    key  \\\n",
       "0                  name   \n",
       "1           downloadUrl   \n",
       "2                 curie   \n",
       "3          nodeFilename   \n",
       "4  relationshipFilename   \n",
       "\n",
       "                                                                                                                    value  \n",
       "0                                                                                          Mondo Disease Ontology (Mondo)  \n",
       "1  https://data.bioontology.org/ontologies/MONDO/download?apikey=8b5b7825-538d-40e0-9e9e-5ab9274a9aeb&download_format=csv  \n",
       "2                                                                                                                   mondo  \n",
       "3                                                                                            Disease_mondo_2021-01-29.csv  \n",
       "4                                                                               Disease-IS_A-Disease_mondo_2021-01-29.csv  "
      ]
     },
     "execution_count": 12,
     "metadata": {},
     "output_type": "execute_result"
    }
   ],
   "source": [
    "config"
   ]
  },
  {
   "cell_type": "code",
   "execution_count": 13,
   "metadata": {},
   "outputs": [],
   "source": [
    "node_filename = config.query('key == \"nodeFilename\"').values[0][1]\n",
    "relationship_filename = config.query('key == \"relationshipFilename\"').values[0][1]"
   ]
  },
  {
   "cell_type": "markdown",
   "metadata": {},
   "source": [
    "## Parse ontology file and create node and relationship dataframes"
   ]
  },
  {
   "cell_type": "code",
   "execution_count": 14,
   "metadata": {},
   "outputs": [],
   "source": [
    "nodes, relationships = parse_bioportal_csv(config)"
   ]
  },
  {
   "cell_type": "code",
   "execution_count": 15,
   "metadata": {},
   "outputs": [
    {
     "name": "stdout",
     "output_type": "stream",
     "text": [
      "Number of nodes: 24409\n"
     ]
    },
    {
     "data": {
      "text/html": [
       "<div>\n",
       "<style scoped>\n",
       "    .dataframe tbody tr th:only-of-type {\n",
       "        vertical-align: middle;\n",
       "    }\n",
       "\n",
       "    .dataframe tbody tr th {\n",
       "        vertical-align: top;\n",
       "    }\n",
       "\n",
       "    .dataframe thead th {\n",
       "        text-align: right;\n",
       "    }\n",
       "</style>\n",
       "<table border=\"1\" class=\"dataframe\">\n",
       "  <thead>\n",
       "    <tr style=\"text-align: right;\">\n",
       "      <th></th>\n",
       "      <th>id</th>\n",
       "      <th>name</th>\n",
       "      <th>synonyms</th>\n",
       "      <th>definition</th>\n",
       "      <th>url</th>\n",
       "    </tr>\n",
       "  </thead>\n",
       "  <tbody>\n",
       "    <tr>\n",
       "      <th>0</th>\n",
       "      <td>mondo:MONDO_0001552</td>\n",
       "      <td>dyscalculia (disease)</td>\n",
       "      <td>dyscalculia|disorder of arithmetical skills|mathematics disorder</td>\n",
       "      <td>A wide group of related learning disorders characterized by difficulties with mathematics and manipulating numbers; the difficulty with math may be caused or exacerbated by visuo-spatial or language processing difficulties.</td>\n",
       "      <td>http://purl.obolibrary.org/obo/MONDO_0001552</td>\n",
       "    </tr>\n",
       "    <tr>\n",
       "      <th>1</th>\n",
       "      <td>mondo:MONDO_0001722</td>\n",
       "      <td>central pterygium</td>\n",
       "      <td></td>\n",
       "      <td></td>\n",
       "      <td>http://purl.obolibrary.org/obo/MONDO_0001722</td>\n",
       "    </tr>\n",
       "    <tr>\n",
       "      <th>2</th>\n",
       "      <td>mondo:MONDO_0006787</td>\n",
       "      <td>hidrocystoma</td>\n",
       "      <td>eccrine hidrocystoma of skin|Hydrocystoma|hidrocystoma|hidrocystoma (morphologic abnormality)|cystadenoma|apocrine/eccrine hidrocystoma|apocrine cystadenoma|eccrine cystadenoma</td>\n",
       "      <td>A benign cystic proliferation of the sweat glands with apocrine or eccrine differentiation. It usually presents as a dome-shaped, cystic papular or nodular lesion usually in the face and neck. It is a unilocular or mutlilocular lesion lined by an inner and an outer layer of epithelium. Complete excision is usually curative.</td>\n",
       "      <td>http://purl.obolibrary.org/obo/MONDO_0006787</td>\n",
       "    </tr>\n",
       "    <tr>\n",
       "      <th>3</th>\n",
       "      <td>mondo:MONDO_0007523</td>\n",
       "      <td>Ehlers-Danlos syndrome, hypermobility type</td>\n",
       "      <td>Ehlers-Danlos syndrome, hypermobile type|BJHS|EDS III|Ehlers-Danlos syndrome, hypermobility type|benign joint hypermobility syndrome|HT-EDS|Ehlers-Danlos syndrome, hypermobility type; EDSHMB|Ehlers-Danlos syndrome type 3|Ehlers-Danlos syndrome type 3 (formerly)|Ehlers-Danlos syndrome, type III|Ehlers-Danlos syndrome, type 3|EDS 3|EDS3 (formerly)|hEDS|hypermobile EDS|EDSHMB|hypermobile Ehlers-Danlos syndrome|benign hypermobility syndrome</td>\n",
       "      <td>Ehlers-Danlos syndrome, hypermobility type (HT-EDS) is the most frequent form of EDS, a group of hereditary connective tissue diseases, and is characterized by joint hyperlaxity, mild skin hyperextensibility, tissue fragility and extra-musculoskeletal manifestations.</td>\n",
       "      <td>http://purl.obolibrary.org/obo/MONDO_0007523</td>\n",
       "    </tr>\n",
       "    <tr>\n",
       "      <th>4</th>\n",
       "      <td>mondo:MONDO_0007887</td>\n",
       "      <td>leiomyoma of vulva and esophagus</td>\n",
       "      <td>leiomyoma of vulva and esophagus|leiomyomatosis, esophagogastric and vulvar|esophagogastric and vulvar leiomyomatosis</td>\n",
       "      <td></td>\n",
       "      <td>http://purl.obolibrary.org/obo/MONDO_0007887</td>\n",
       "    </tr>\n",
       "  </tbody>\n",
       "</table>\n",
       "</div>"
      ],
      "text/plain": [
       "                    id                                        name  \\\n",
       "0  mondo:MONDO_0001552                       dyscalculia (disease)   \n",
       "1  mondo:MONDO_0001722                           central pterygium   \n",
       "2  mondo:MONDO_0006787                                hidrocystoma   \n",
       "3  mondo:MONDO_0007523  Ehlers-Danlos syndrome, hypermobility type   \n",
       "4  mondo:MONDO_0007887            leiomyoma of vulva and esophagus   \n",
       "\n",
       "                                                                                                                                                                                                                                                                                                                                                                                                                                                   synonyms  \\\n",
       "0                                                                                                                                                                                                                                                                                                                                                                                          dyscalculia|disorder of arithmetical skills|mathematics disorder   \n",
       "1                                                                                                                                                                                                                                                                                                                                                                                                                                                             \n",
       "2                                                                                                                                                                                                                                                                          eccrine hidrocystoma of skin|Hydrocystoma|hidrocystoma|hidrocystoma (morphologic abnormality)|cystadenoma|apocrine/eccrine hidrocystoma|apocrine cystadenoma|eccrine cystadenoma   \n",
       "3  Ehlers-Danlos syndrome, hypermobile type|BJHS|EDS III|Ehlers-Danlos syndrome, hypermobility type|benign joint hypermobility syndrome|HT-EDS|Ehlers-Danlos syndrome, hypermobility type; EDSHMB|Ehlers-Danlos syndrome type 3|Ehlers-Danlos syndrome type 3 (formerly)|Ehlers-Danlos syndrome, type III|Ehlers-Danlos syndrome, type 3|EDS 3|EDS3 (formerly)|hEDS|hypermobile EDS|EDSHMB|hypermobile Ehlers-Danlos syndrome|benign hypermobility syndrome   \n",
       "4                                                                                                                                                                                                                                                                                                                                     leiomyoma of vulva and esophagus|leiomyomatosis, esophagogastric and vulvar|esophagogastric and vulvar leiomyomatosis   \n",
       "\n",
       "                                                                                                                                                                                                                                                                                                                              definition  \\\n",
       "0                                                                                                        A wide group of related learning disorders characterized by difficulties with mathematics and manipulating numbers; the difficulty with math may be caused or exacerbated by visuo-spatial or language processing difficulties.   \n",
       "1                                                                                                                                                                                                                                                                                                                                          \n",
       "2  A benign cystic proliferation of the sweat glands with apocrine or eccrine differentiation. It usually presents as a dome-shaped, cystic papular or nodular lesion usually in the face and neck. It is a unilocular or mutlilocular lesion lined by an inner and an outer layer of epithelium. Complete excision is usually curative.   \n",
       "3                                                            Ehlers-Danlos syndrome, hypermobility type (HT-EDS) is the most frequent form of EDS, a group of hereditary connective tissue diseases, and is characterized by joint hyperlaxity, mild skin hyperextensibility, tissue fragility and extra-musculoskeletal manifestations.   \n",
       "4                                                                                                                                                                                                                                                                                                                                          \n",
       "\n",
       "                                            url  \n",
       "0  http://purl.obolibrary.org/obo/MONDO_0001552  \n",
       "1  http://purl.obolibrary.org/obo/MONDO_0001722  \n",
       "2  http://purl.obolibrary.org/obo/MONDO_0006787  \n",
       "3  http://purl.obolibrary.org/obo/MONDO_0007523  \n",
       "4  http://purl.obolibrary.org/obo/MONDO_0007887  "
      ]
     },
     "execution_count": 15,
     "metadata": {},
     "output_type": "execute_result"
    }
   ],
   "source": [
    "print('Number of nodes:', nodes.shape[0])\n",
    "nodes.head()"
   ]
  },
  {
   "cell_type": "code",
   "execution_count": 16,
   "metadata": {},
   "outputs": [
    {
     "name": "stdout",
     "output_type": "stream",
     "text": [
      "Number of relationships: 38232\n"
     ]
    },
    {
     "data": {
      "text/html": [
       "<div>\n",
       "<style scoped>\n",
       "    .dataframe tbody tr th:only-of-type {\n",
       "        vertical-align: middle;\n",
       "    }\n",
       "\n",
       "    .dataframe tbody tr th {\n",
       "        vertical-align: top;\n",
       "    }\n",
       "\n",
       "    .dataframe thead th {\n",
       "        text-align: right;\n",
       "    }\n",
       "</style>\n",
       "<table border=\"1\" class=\"dataframe\">\n",
       "  <thead>\n",
       "    <tr style=\"text-align: right;\">\n",
       "      <th></th>\n",
       "      <th>from</th>\n",
       "      <th>to</th>\n",
       "    </tr>\n",
       "  </thead>\n",
       "  <tbody>\n",
       "    <tr>\n",
       "      <th>0</th>\n",
       "      <td>mondo:MONDO_0001552</td>\n",
       "      <td>mondo:MONDO_0004681</td>\n",
       "    </tr>\n",
       "    <tr>\n",
       "      <th>1</th>\n",
       "      <td>mondo:MONDO_0001722</td>\n",
       "      <td>mondo:MONDO_0001723</td>\n",
       "    </tr>\n",
       "    <tr>\n",
       "      <th>2</th>\n",
       "      <td>mondo:MONDO_0006787</td>\n",
       "      <td>mondo:MONDO_0021489</td>\n",
       "    </tr>\n",
       "    <tr>\n",
       "      <th>3</th>\n",
       "      <td>mondo:MONDO_0007523</td>\n",
       "      <td>mondo:MONDO_0020066</td>\n",
       "    </tr>\n",
       "    <tr>\n",
       "      <th>4</th>\n",
       "      <td>mondo:MONDO_0007887</td>\n",
       "      <td>mondo:MONDO_0010641</td>\n",
       "    </tr>\n",
       "  </tbody>\n",
       "</table>\n",
       "</div>"
      ],
      "text/plain": [
       "                  from                   to\n",
       "0  mondo:MONDO_0001552  mondo:MONDO_0004681\n",
       "1  mondo:MONDO_0001722  mondo:MONDO_0001723\n",
       "2  mondo:MONDO_0006787  mondo:MONDO_0021489\n",
       "3  mondo:MONDO_0007523  mondo:MONDO_0020066\n",
       "4  mondo:MONDO_0007887  mondo:MONDO_0010641"
      ]
     },
     "execution_count": 16,
     "metadata": {},
     "output_type": "execute_result"
    }
   ],
   "source": [
    "print('Number of relationships:', relationships.shape[0])\n",
    "relationships.head()"
   ]
  },
  {
   "cell_type": "markdown",
   "metadata": {},
   "source": [
    "## Save data files"
   ]
  },
  {
   "cell_type": "code",
   "execution_count": 17,
   "metadata": {},
   "outputs": [],
   "source": [
    "nodes.to_csv(os.path.join(NODE_DATA, node_filename), index=False)"
   ]
  },
  {
   "cell_type": "code",
   "execution_count": 18,
   "metadata": {},
   "outputs": [],
   "source": [
    "relationships.to_csv(os.path.join(RELATIONSHIP_DATA, relationship_filename), index=False)"
   ]
  },
  {
   "cell_type": "markdown",
   "metadata": {
    "tags": []
   },
   "source": [
    "## Create Metadata files"
   ]
  },
  {
   "cell_type": "markdown",
   "metadata": {},
   "source": [
    "#### Pick a consise and representative example for the metadata file"
   ]
  },
  {
   "cell_type": "code",
   "execution_count": 19,
   "metadata": {},
   "outputs": [],
   "source": [
    "def example_score(row):\n",
    "    characters = 0\n",
    "    score = 0\n",
    "    \n",
    "    for item in row:\n",
    "        item = str(item)\n",
    "        characters += len(item)\n",
    "        # rows with the most complete data score higher\n",
    "        if item != '':\n",
    "            score += 1\n",
    "\n",
    "    # rows with multiple synomyms score highter\n",
    "    if '|' in row[2]:\n",
    "        score += 0.5\n",
    "         \n",
    "    # shorter rows score higher\n",
    "    score += len(row)/characters\n",
    "    return score"
   ]
  },
  {
   "cell_type": "code",
   "execution_count": 20,
   "metadata": {},
   "outputs": [],
   "source": [
    "nodes['score'] = nodes.apply(example_score, axis=1)"
   ]
  },
  {
   "cell_type": "code",
   "execution_count": 21,
   "metadata": {},
   "outputs": [],
   "source": [
    "nodes = nodes.sort_values(by='score', ascending=False)"
   ]
  },
  {
   "cell_type": "code",
   "execution_count": 22,
   "metadata": {},
   "outputs": [],
   "source": [
    "# pick example from place 50. The top scoring example is often atypical.\n",
    "pick = min(50, nodes.shape[0])\n",
    "example_row = nodes[50:]\n",
    "examples = list(example_row.values[0])"
   ]
  },
  {
   "cell_type": "markdown",
   "metadata": {},
   "source": [
    "#### Infer data types"
   ]
  },
  {
   "cell_type": "code",
   "execution_count": 23,
   "metadata": {},
   "outputs": [],
   "source": [
    "nodes = nodes.convert_dtypes()"
   ]
  },
  {
   "cell_type": "markdown",
   "metadata": {},
   "source": [
    "#### Create metadata dataframe"
   ]
  },
  {
   "cell_type": "markdown",
   "metadata": {},
   "source": [
    "Node metadata"
   ]
  },
  {
   "cell_type": "code",
   "execution_count": 24,
   "metadata": {},
   "outputs": [
    {
     "data": {
      "text/html": [
       "<div>\n",
       "<style scoped>\n",
       "    .dataframe tbody tr th:only-of-type {\n",
       "        vertical-align: middle;\n",
       "    }\n",
       "\n",
       "    .dataframe tbody tr th {\n",
       "        vertical-align: top;\n",
       "    }\n",
       "\n",
       "    .dataframe thead th {\n",
       "        text-align: right;\n",
       "    }\n",
       "</style>\n",
       "<table border=\"1\" class=\"dataframe\">\n",
       "  <thead>\n",
       "    <tr style=\"text-align: right;\">\n",
       "      <th></th>\n",
       "      <th>property</th>\n",
       "      <th>type</th>\n",
       "      <th>description</th>\n",
       "      <th>example</th>\n",
       "    </tr>\n",
       "  </thead>\n",
       "  <tbody>\n",
       "    <tr>\n",
       "      <th>0</th>\n",
       "      <td>id</td>\n",
       "      <td>string</td>\n",
       "      <td>id</td>\n",
       "      <td>mondo:MONDO_0024673</td>\n",
       "    </tr>\n",
       "    <tr>\n",
       "      <th>1</th>\n",
       "      <td>name</td>\n",
       "      <td>string</td>\n",
       "      <td>name</td>\n",
       "      <td>skin lymphangioma</td>\n",
       "    </tr>\n",
       "    <tr>\n",
       "      <th>2</th>\n",
       "      <td>synonyms</td>\n",
       "      <td>string</td>\n",
       "      <td>synonyms</td>\n",
       "      <td>skin lymphangioma|cutaneous lymphangioma</td>\n",
       "    </tr>\n",
       "    <tr>\n",
       "      <th>3</th>\n",
       "      <td>definition</td>\n",
       "      <td>string</td>\n",
       "      <td>definition</td>\n",
       "      <td>A lymphangioma arising from the skin.</td>\n",
       "    </tr>\n",
       "    <tr>\n",
       "      <th>4</th>\n",
       "      <td>url</td>\n",
       "      <td>string</td>\n",
       "      <td>url</td>\n",
       "      <td>http://purl.obolibrary.org/obo/MONDO_0024673</td>\n",
       "    </tr>\n",
       "  </tbody>\n",
       "</table>\n",
       "</div>"
      ],
      "text/plain": [
       "     property    type description  \\\n",
       "0          id  string          id   \n",
       "1        name  string        name   \n",
       "2    synonyms  string    synonyms   \n",
       "3  definition  string  definition   \n",
       "4         url  string         url   \n",
       "\n",
       "                                        example  \n",
       "0                           mondo:MONDO_0024673  \n",
       "1                             skin lymphangioma  \n",
       "2      skin lymphangioma|cutaneous lymphangioma  \n",
       "3         A lymphangioma arising from the skin.  \n",
       "4  http://purl.obolibrary.org/obo/MONDO_0024673  "
      ]
     },
     "execution_count": 24,
     "metadata": {},
     "output_type": "execute_result"
    }
   ],
   "source": [
    "metadata = []\n",
    "for node, dtype, exmpl in zip(nodes.columns, nodes.dtypes, examples):\n",
    "    metadata.append({'property': node, 'type': dtype, 'description': node, 'example': exmpl})\n",
    "    \n",
    "node_metadata = pd.DataFrame(metadata)\n",
    "# remove last row ('score')\n",
    "node_metadata = node_metadata[:-1]\n",
    "node_metadata"
   ]
  },
  {
   "cell_type": "markdown",
   "metadata": {},
   "source": [
    "Relationship metadata"
   ]
  },
  {
   "cell_type": "code",
   "execution_count": 25,
   "metadata": {},
   "outputs": [],
   "source": [
    "source = node_metadata['example'][0]\n",
    "example_rel = relationships[relationships['from'] == source].copy()\n",
    "example_rel = example_rel.reset_index(drop=True)"
   ]
  },
  {
   "cell_type": "code",
   "execution_count": 26,
   "metadata": {},
   "outputs": [
    {
     "data": {
      "text/html": [
       "<div>\n",
       "<style scoped>\n",
       "    .dataframe tbody tr th:only-of-type {\n",
       "        vertical-align: middle;\n",
       "    }\n",
       "\n",
       "    .dataframe tbody tr th {\n",
       "        vertical-align: top;\n",
       "    }\n",
       "\n",
       "    .dataframe thead th {\n",
       "        text-align: right;\n",
       "    }\n",
       "</style>\n",
       "<table border=\"1\" class=\"dataframe\">\n",
       "  <thead>\n",
       "    <tr style=\"text-align: right;\">\n",
       "      <th></th>\n",
       "      <th>property</th>\n",
       "      <th>type</th>\n",
       "      <th>description</th>\n",
       "      <th>example</th>\n",
       "    </tr>\n",
       "  </thead>\n",
       "  <tbody>\n",
       "    <tr>\n",
       "      <th>0</th>\n",
       "      <td>from</td>\n",
       "      <td>string</td>\n",
       "      <td>Id of source node</td>\n",
       "      <td>mondo:MONDO_0024673</td>\n",
       "    </tr>\n",
       "    <tr>\n",
       "      <th>1</th>\n",
       "      <td>to</td>\n",
       "      <td>string</td>\n",
       "      <td>Id of target node</td>\n",
       "      <td>mondo:MONDO_0002013</td>\n",
       "    </tr>\n",
       "  </tbody>\n",
       "</table>\n",
       "</div>"
      ],
      "text/plain": [
       "  property    type        description              example\n",
       "0     from  string  Id of source node  mondo:MONDO_0024673\n",
       "1       to  string  Id of target node  mondo:MONDO_0002013"
      ]
     },
     "execution_count": 26,
     "metadata": {},
     "output_type": "execute_result"
    }
   ],
   "source": [
    "metadata = [{'property': 'from', 'type': 'string', 'description': 'Id of source node', 'example': example_rel['from'][0]},\n",
    "            {'property': 'to', 'type': 'string', 'description': 'Id of target node', 'example': example_rel['to'][0]}]\n",
    "\n",
    "relationship_metadata = pd.DataFrame(metadata)\n",
    "relationship_metadata"
   ]
  },
  {
   "cell_type": "markdown",
   "metadata": {},
   "source": [
    "## Save metadata files"
   ]
  },
  {
   "cell_type": "code",
   "execution_count": 27,
   "metadata": {},
   "outputs": [],
   "source": [
    "node_metadata_filename = re.split('\\.|_', node_filename)[0]\n",
    "node_metadata_filename += '.csv'\n",
    "\n",
    "# split nodes from relationship\n",
    "parts = relationship_filename.split('-', 2)\n",
    "source_node = parts[0]\n",
    "relationship = parts[1]\n",
    "# remove any extra tag separated by underscore\n",
    "target_node = parts[2].split('_')[0]\n",
    "relationship_metadata_filename = source_node + '-' + relationship + '-' + target_node + '.csv'\n",
    "    \n",
    "node_metadata.to_csv(os.path.join(NODE_METADATA, node_metadata_filename), index=False)\n",
    "relationship_metadata.to_csv(os.path.join(RELATIONSHIP_METADATA, relationship_metadata_filename), index=False)"
   ]
  }
 ],
 "metadata": {
  "kernelspec": {
   "display_name": "Python 3 (ipykernel)",
   "language": "python",
   "name": "python3"
  },
  "language_info": {
   "codemirror_mode": {
    "name": "ipython",
    "version": 3
   },
   "file_extension": ".py",
   "mimetype": "text/x-python",
   "name": "python",
   "nbconvert_exporter": "python",
   "pygments_lexer": "ipython3",
   "version": "3.7.12"
  }
 },
 "nbformat": 4,
 "nbformat_minor": 4
}
