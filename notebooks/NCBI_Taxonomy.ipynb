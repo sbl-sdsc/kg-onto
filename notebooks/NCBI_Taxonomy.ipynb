{
 "cells": [
  {
   "cell_type": "markdown",
   "metadata": {},
   "source": [
    "# Create Node and Relationship files for NCBI Taxonomy\n",
    "This notebook creates Node and Relationship files that represent the NCBI Taxonomy ontology tree. The Ontology is retrieved from the [BioPortal](https://bioportal.bioontology.org/ontologies/NCBITAXON).\n",
    "\n",
    "The Node and Relationship files can be uploaded into a Neo4j Graph Database using the [kg-import](https://github.com/sbl-sdsc/kg-import)."
   ]
  },
  {
   "cell_type": "code",
   "execution_count": 1,
   "metadata": {},
   "outputs": [],
   "source": [
    "import os\n",
    "from pathlib import Path\n",
    "import pandas as pd\n",
    "from utils import parse_bioportal_csv"
   ]
  },
  {
   "cell_type": "code",
   "execution_count": 2,
   "metadata": {},
   "outputs": [],
   "source": [
    "# reload modules before executing user code\n",
    "%load_ext autoreload\n",
    "%autoreload 2"
   ]
  },
  {
   "cell_type": "code",
   "execution_count": 3,
   "metadata": {},
   "outputs": [],
   "source": [
    "# configure pandas dataframe\n",
    "pd.options.display.max_rows = None  # display all rows\n",
    "pd.options.display.max_columns = None  # display all columsns"
   ]
  },
  {
   "cell_type": "code",
   "execution_count": 4,
   "metadata": {},
   "outputs": [],
   "source": [
    "NODE_DIR = Path(os.getenv('NODE_DIR', default='../data'))\n",
    "RELATIONSHIP_DIR = Path(os.getenv('RELATIONSHIP_DIR', default='../data'))                   "
   ]
  },
  {
   "cell_type": "markdown",
   "metadata": {},
   "source": [
    "## NCBI Taxonomy"
   ]
  },
  {
   "cell_type": "markdown",
   "metadata": {},
   "source": [
    "Specify the CSV Download URL from [BioPortal](https://bioportal.bioontology.org/)."
   ]
  },
  {
   "cell_type": "code",
   "execution_count": 5,
   "metadata": {},
   "outputs": [],
   "source": [
    "ontology_url = 'https://data.bioontology.org/ontologies/NCBITAXON/download?apikey=8b5b7825-538d-40e0-9e9e-5ab9274a9aeb&download_format=csv'"
   ]
  },
  {
   "cell_type": "markdown",
   "metadata": {},
   "source": [
    "Specify extra columns to be imported from the CSV file. The map specifies the mapping of the original column names to new column names to be used as node properties. Use the following the Neo4j convention for property names: lower-case, using underscore to separate words."
   ]
  },
  {
   "cell_type": "code",
   "execution_count": 6,
   "metadata": {},
   "outputs": [],
   "source": [
    "extra_properties = {'DIV': 'division', 'RANK': 'rank'}"
   ]
  },
  {
   "cell_type": "markdown",
   "metadata": {},
   "source": [
    "Browse the Identifiers.org [registry](https://registry.identifiers.org/registry) to find curie (compact uri) for a data resource."
   ]
  },
  {
   "cell_type": "code",
   "execution_count": 7,
   "metadata": {},
   "outputs": [],
   "source": [
    "curie = 'taxonomy'"
   ]
  },
  {
   "cell_type": "code",
   "execution_count": 8,
   "metadata": {},
   "outputs": [],
   "source": [
    "node_file_name = 'Organism.csv'\n",
    "relationship_file_name = 'Organisms-IS_A-Organism.csv'"
   ]
  },
  {
   "cell_type": "markdown",
   "metadata": {},
   "source": [
    "## Parse ontology file and create node and relationship dataframes"
   ]
  },
  {
   "cell_type": "code",
   "execution_count": 9,
   "metadata": {},
   "outputs": [],
   "source": [
    "nodes, relationships = parse_bioportal_csv(ontology_url, extra_properties, curie)"
   ]
  },
  {
   "cell_type": "code",
   "execution_count": 10,
   "metadata": {},
   "outputs": [
    {
     "name": "stdout",
     "output_type": "stream",
     "text": [
      "Number of nodes: 1983907\n"
     ]
    }
   ],
   "source": [
    "print('Number of nodes:', nodes.shape[0])"
   ]
  },
  {
   "cell_type": "code",
   "execution_count": 11,
   "metadata": {},
   "outputs": [
    {
     "data": {
      "text/html": [
       "<div>\n",
       "<style scoped>\n",
       "    .dataframe tbody tr th:only-of-type {\n",
       "        vertical-align: middle;\n",
       "    }\n",
       "\n",
       "    .dataframe tbody tr th {\n",
       "        vertical-align: top;\n",
       "    }\n",
       "\n",
       "    .dataframe thead th {\n",
       "        text-align: right;\n",
       "    }\n",
       "</style>\n",
       "<table border=\"1\" class=\"dataframe\">\n",
       "  <thead>\n",
       "    <tr style=\"text-align: right;\">\n",
       "      <th></th>\n",
       "      <th>id</th>\n",
       "      <th>name</th>\n",
       "      <th>synonyms</th>\n",
       "      <th>definition</th>\n",
       "      <th>url</th>\n",
       "      <th>division</th>\n",
       "      <th>rank</th>\n",
       "    </tr>\n",
       "  </thead>\n",
       "  <tbody>\n",
       "    <tr>\n",
       "      <th>0</th>\n",
       "      <td>taxonomy:2491102</td>\n",
       "      <td>Schrebera swietenioides</td>\n",
       "      <td></td>\n",
       "      <td></td>\n",
       "      <td>http://purl.bioontology.org/ontology/NCBITAXON...</td>\n",
       "      <td>Plants and Fungi</td>\n",
       "      <td>species</td>\n",
       "    </tr>\n",
       "    <tr>\n",
       "      <th>1</th>\n",
       "      <td>taxonomy:670317</td>\n",
       "      <td>Sinularia sublimis</td>\n",
       "      <td></td>\n",
       "      <td></td>\n",
       "      <td>http://purl.bioontology.org/ontology/NCBITAXON...</td>\n",
       "      <td>Invertebrates</td>\n",
       "      <td>species</td>\n",
       "    </tr>\n",
       "    <tr>\n",
       "      <th>2</th>\n",
       "      <td>taxonomy:2522987</td>\n",
       "      <td>Platygastridae sp. BIOUG20087-C03</td>\n",
       "      <td></td>\n",
       "      <td></td>\n",
       "      <td>http://purl.bioontology.org/ontology/NCBITAXON...</td>\n",
       "      <td>Invertebrates</td>\n",
       "      <td>species</td>\n",
       "    </tr>\n",
       "    <tr>\n",
       "      <th>3</th>\n",
       "      <td>taxonomy:2248825</td>\n",
       "      <td>Haemadipsa sp. THRF6</td>\n",
       "      <td></td>\n",
       "      <td></td>\n",
       "      <td>http://purl.bioontology.org/ontology/NCBITAXON...</td>\n",
       "      <td>Invertebrates</td>\n",
       "      <td>species</td>\n",
       "    </tr>\n",
       "    <tr>\n",
       "      <th>4</th>\n",
       "      <td>taxonomy:2009595</td>\n",
       "      <td>Apoidea sp. 0520C209</td>\n",
       "      <td></td>\n",
       "      <td></td>\n",
       "      <td>http://purl.bioontology.org/ontology/NCBITAXON...</td>\n",
       "      <td>Invertebrates</td>\n",
       "      <td>species</td>\n",
       "    </tr>\n",
       "  </tbody>\n",
       "</table>\n",
       "</div>"
      ],
      "text/plain": [
       "                 id                               name synonyms definition  \\\n",
       "0  taxonomy:2491102            Schrebera swietenioides                       \n",
       "1   taxonomy:670317                 Sinularia sublimis                       \n",
       "2  taxonomy:2522987  Platygastridae sp. BIOUG20087-C03                       \n",
       "3  taxonomy:2248825               Haemadipsa sp. THRF6                       \n",
       "4  taxonomy:2009595               Apoidea sp. 0520C209                       \n",
       "\n",
       "                                                 url          division  \\\n",
       "0  http://purl.bioontology.org/ontology/NCBITAXON...  Plants and Fungi   \n",
       "1  http://purl.bioontology.org/ontology/NCBITAXON...     Invertebrates   \n",
       "2  http://purl.bioontology.org/ontology/NCBITAXON...     Invertebrates   \n",
       "3  http://purl.bioontology.org/ontology/NCBITAXON...     Invertebrates   \n",
       "4  http://purl.bioontology.org/ontology/NCBITAXON...     Invertebrates   \n",
       "\n",
       "      rank  \n",
       "0  species  \n",
       "1  species  \n",
       "2  species  \n",
       "3  species  \n",
       "4  species  "
      ]
     },
     "execution_count": 11,
     "metadata": {},
     "output_type": "execute_result"
    }
   ],
   "source": [
    "nodes.head()"
   ]
  },
  {
   "cell_type": "code",
   "execution_count": 12,
   "metadata": {},
   "outputs": [
    {
     "name": "stdout",
     "output_type": "stream",
     "text": [
      "Number of relationships: 1983861\n"
     ]
    }
   ],
   "source": [
    "print('Number of relationships:', relationships.shape[0])"
   ]
  },
  {
   "cell_type": "code",
   "execution_count": 13,
   "metadata": {},
   "outputs": [
    {
     "data": {
      "text/html": [
       "<div>\n",
       "<style scoped>\n",
       "    .dataframe tbody tr th:only-of-type {\n",
       "        vertical-align: middle;\n",
       "    }\n",
       "\n",
       "    .dataframe tbody tr th {\n",
       "        vertical-align: top;\n",
       "    }\n",
       "\n",
       "    .dataframe thead th {\n",
       "        text-align: right;\n",
       "    }\n",
       "</style>\n",
       "<table border=\"1\" class=\"dataframe\">\n",
       "  <thead>\n",
       "    <tr style=\"text-align: right;\">\n",
       "      <th></th>\n",
       "      <th>from</th>\n",
       "      <th>to</th>\n",
       "    </tr>\n",
       "  </thead>\n",
       "  <tbody>\n",
       "    <tr>\n",
       "      <th>0</th>\n",
       "      <td>taxonomy:2491102</td>\n",
       "      <td>taxonomy:126565</td>\n",
       "    </tr>\n",
       "    <tr>\n",
       "      <th>1</th>\n",
       "      <td>taxonomy:670317</td>\n",
       "      <td>taxonomy:51814</td>\n",
       "    </tr>\n",
       "    <tr>\n",
       "      <th>2</th>\n",
       "      <td>taxonomy:2522987</td>\n",
       "      <td>taxonomy:1252372</td>\n",
       "    </tr>\n",
       "    <tr>\n",
       "      <th>3</th>\n",
       "      <td>taxonomy:2248825</td>\n",
       "      <td>taxonomy:2647130</td>\n",
       "    </tr>\n",
       "    <tr>\n",
       "      <th>4</th>\n",
       "      <td>taxonomy:2009595</td>\n",
       "      <td>taxonomy:889157</td>\n",
       "    </tr>\n",
       "  </tbody>\n",
       "</table>\n",
       "</div>"
      ],
      "text/plain": [
       "               from                to\n",
       "0  taxonomy:2491102   taxonomy:126565\n",
       "1   taxonomy:670317    taxonomy:51814\n",
       "2  taxonomy:2522987  taxonomy:1252372\n",
       "3  taxonomy:2248825  taxonomy:2647130\n",
       "4  taxonomy:2009595   taxonomy:889157"
      ]
     },
     "execution_count": 13,
     "metadata": {},
     "output_type": "execute_result"
    }
   ],
   "source": [
    "relationships.head()"
   ]
  },
  {
   "cell_type": "markdown",
   "metadata": {},
   "source": [
    "## Save files"
   ]
  },
  {
   "cell_type": "code",
   "execution_count": 14,
   "metadata": {},
   "outputs": [],
   "source": [
    "nodes.to_csv(NODE_DIR / node_file_name, index=False)"
   ]
  },
  {
   "cell_type": "code",
   "execution_count": 15,
   "metadata": {},
   "outputs": [],
   "source": [
    "relationships.to_csv(RELATIONSHIP_DIR / relationship_file_name, index=False)"
   ]
  }
 ],
 "metadata": {
  "kernelspec": {
   "display_name": "Python 3 (ipykernel)",
   "language": "python",
   "name": "python3"
  },
  "language_info": {
   "codemirror_mode": {
    "name": "ipython",
    "version": 3
   },
   "file_extension": ".py",
   "mimetype": "text/x-python",
   "name": "python",
   "nbconvert_exporter": "python",
   "pygments_lexer": "ipython3",
   "version": "3.7.12"
  }
 },
 "nbformat": 4,
 "nbformat_minor": 4
}
