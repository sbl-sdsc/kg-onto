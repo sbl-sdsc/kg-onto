{
 "cells": [
  {
   "cell_type": "markdown",
   "metadata": {},
   "source": [
    "# Convert Mesh Ontology from BioPortal to node and relationship files"
   ]
  },
  {
   "cell_type": "code",
   "execution_count": 1,
   "metadata": {},
   "outputs": [],
   "source": [
    "import os\n",
    "from pathlib import Path\n",
    "import pandas as pd\n",
    "from utils import parse_bioportal_csv"
   ]
  },
  {
   "cell_type": "code",
   "execution_count": 2,
   "metadata": {},
   "outputs": [],
   "source": [
    "# reload modules before executing user code\n",
    "%load_ext autoreload\n",
    "%autoreload 2"
   ]
  },
  {
   "cell_type": "code",
   "execution_count": 3,
   "metadata": {},
   "outputs": [],
   "source": [
    "pd.options.display.max_rows = None  # display all rows\n",
    "pd.options.display.max_columns = None  # display all columsns"
   ]
  },
  {
   "cell_type": "code",
   "execution_count": 4,
   "metadata": {},
   "outputs": [],
   "source": [
    "NODE_DIR = Path(os.getenv('NODE_DIR', default='./'))\n",
    "RELATIONSHIP_DIR = Path(os.getenv('RELATIONSHIP_DIR', default='./'))    "
   ]
  },
  {
   "cell_type": "markdown",
   "metadata": {},
   "source": [
    "## Configure Ontology download"
   ]
  },
  {
   "cell_type": "markdown",
   "metadata": {},
   "source": [
    "Specify the CSV Download URL from [BioPortal](https://bioportal.bioontology.org/)."
   ]
  },
  {
   "cell_type": "code",
   "execution_count": 5,
   "metadata": {},
   "outputs": [],
   "source": [
    "ontology_url = 'https://data.bioontology.org/ontologies/MESH/download?apikey=8b5b7825-538d-40e0-9e9e-5ab9274a9aeb&download_format=csv'"
   ]
  },
  {
   "cell_type": "markdown",
   "metadata": {},
   "source": [
    "Specify extra columns to be imported from the CSV file. The map specifies the mapping of the original column names to new column names to be used as node properties. Use the following the Neo4j convention for property names: lower-case, using underscore to separate words."
   ]
  },
  {
   "cell_type": "code",
   "execution_count": 6,
   "metadata": {},
   "outputs": [],
   "source": [
    "extra_properties = {}\n",
    "# TODO link top level MeSH Categories to MeSH terms (see: https://meshb.nlm.nih.gov/treeView)\n",
    "# Example: http://purl.bioontology.org/ontology/MESH/U000002, Anatomy (MeSH Category) should be linked to MeSH tree numbers: A01 .. A21.\n",
    "# Tree number can be extracted from MN column: extra_properties = {'MN':'tree_number'}"
   ]
  },
  {
   "cell_type": "markdown",
   "metadata": {},
   "source": [
    "Browse the Identifiers.org [registry](https://registry.identifiers.org/registry) to find curie (compact uri) for a data resource."
   ]
  },
  {
   "cell_type": "code",
   "execution_count": 7,
   "metadata": {},
   "outputs": [],
   "source": [
    "curie = 'mesh'"
   ]
  },
  {
   "cell_type": "markdown",
   "metadata": {},
   "source": [
    "Specify the file names for the node and relationship files."
   ]
  },
  {
   "cell_type": "code",
   "execution_count": 8,
   "metadata": {},
   "outputs": [],
   "source": [
    "node_file_name = 'DataCategory.csv'\n",
    "relationship_file_name = 'DataCategory_ISA_DataCategory.csv'"
   ]
  },
  {
   "cell_type": "markdown",
   "metadata": {},
   "source": [
    "## Parse ontology file and create node and relationship dataframes"
   ]
  },
  {
   "cell_type": "code",
   "execution_count": 9,
   "metadata": {},
   "outputs": [],
   "source": [
    "nodes, relationships = parse_bioportal_csv(ontology_url, extra_properties, curie)"
   ]
  },
  {
   "cell_type": "code",
   "execution_count": 10,
   "metadata": {},
   "outputs": [
    {
     "data": {
      "text/html": [
       "<div>\n",
       "<style scoped>\n",
       "    .dataframe tbody tr th:only-of-type {\n",
       "        vertical-align: middle;\n",
       "    }\n",
       "\n",
       "    .dataframe tbody tr th {\n",
       "        vertical-align: top;\n",
       "    }\n",
       "\n",
       "    .dataframe thead th {\n",
       "        text-align: right;\n",
       "    }\n",
       "</style>\n",
       "<table border=\"1\" class=\"dataframe\">\n",
       "  <thead>\n",
       "    <tr style=\"text-align: right;\">\n",
       "      <th></th>\n",
       "      <th>id</th>\n",
       "      <th>name</th>\n",
       "      <th>synonyms</th>\n",
       "      <th>definition</th>\n",
       "      <th>url</th>\n",
       "    </tr>\n",
       "  </thead>\n",
       "  <tbody>\n",
       "    <tr>\n",
       "      <th>0</th>\n",
       "      <td>mesh:C000659400</td>\n",
       "      <td>Acaulospora ignota</td>\n",
       "      <td></td>\n",
       "      <td></td>\n",
       "      <td>http://purl.bioontology.org/ontology/MESH/C000...</td>\n",
       "    </tr>\n",
       "    <tr>\n",
       "      <th>1</th>\n",
       "      <td>mesh:C000624633</td>\n",
       "      <td>technetium 99m hydroxyethylene-diphosphonate</td>\n",
       "      <td>99mTc-HDP|99mTc-hydroxyethylene-diphosphonate</td>\n",
       "      <td></td>\n",
       "      <td>http://purl.bioontology.org/ontology/MESH/C000...</td>\n",
       "    </tr>\n",
       "    <tr>\n",
       "      <th>2</th>\n",
       "      <td>mesh:C585345</td>\n",
       "      <td>Tardbp protein, zebrafish</td>\n",
       "      <td>Tardbpl-FL protein, zebrafish|Tardbpl protein,...</td>\n",
       "      <td></td>\n",
       "      <td>http://purl.bioontology.org/ontology/MESH/C585345</td>\n",
       "    </tr>\n",
       "    <tr>\n",
       "      <th>3</th>\n",
       "      <td>mesh:C000623720</td>\n",
       "      <td>Autographa californica multiple nuclear polyhe...</td>\n",
       "      <td>Trichoplusia ni multiple nucleopolyhedrovirus|...</td>\n",
       "      <td></td>\n",
       "      <td>http://purl.bioontology.org/ontology/MESH/C000...</td>\n",
       "    </tr>\n",
       "    <tr>\n",
       "      <th>4</th>\n",
       "      <td>mesh:C000644313</td>\n",
       "      <td>Leeuwenhoekiella blandensis</td>\n",
       "      <td></td>\n",
       "      <td></td>\n",
       "      <td>http://purl.bioontology.org/ontology/MESH/C000...</td>\n",
       "    </tr>\n",
       "  </tbody>\n",
       "</table>\n",
       "</div>"
      ],
      "text/plain": [
       "                id                                               name  \\\n",
       "0  mesh:C000659400                                 Acaulospora ignota   \n",
       "1  mesh:C000624633       technetium 99m hydroxyethylene-diphosphonate   \n",
       "2     mesh:C585345                          Tardbp protein, zebrafish   \n",
       "3  mesh:C000623720  Autographa californica multiple nuclear polyhe...   \n",
       "4  mesh:C000644313                        Leeuwenhoekiella blandensis   \n",
       "\n",
       "                                            synonyms definition  \\\n",
       "0                                                                 \n",
       "1      99mTc-HDP|99mTc-hydroxyethylene-diphosphonate              \n",
       "2  Tardbpl-FL protein, zebrafish|Tardbpl protein,...              \n",
       "3  Trichoplusia ni multiple nucleopolyhedrovirus|...              \n",
       "4                                                                 \n",
       "\n",
       "                                                 url  \n",
       "0  http://purl.bioontology.org/ontology/MESH/C000...  \n",
       "1  http://purl.bioontology.org/ontology/MESH/C000...  \n",
       "2  http://purl.bioontology.org/ontology/MESH/C585345  \n",
       "3  http://purl.bioontology.org/ontology/MESH/C000...  \n",
       "4  http://purl.bioontology.org/ontology/MESH/C000...  "
      ]
     },
     "execution_count": 10,
     "metadata": {},
     "output_type": "execute_result"
    }
   ],
   "source": [
    "nodes.head()"
   ]
  },
  {
   "cell_type": "code",
   "execution_count": 11,
   "metadata": {},
   "outputs": [
    {
     "data": {
      "text/html": [
       "<div>\n",
       "<style scoped>\n",
       "    .dataframe tbody tr th:only-of-type {\n",
       "        vertical-align: middle;\n",
       "    }\n",
       "\n",
       "    .dataframe tbody tr th {\n",
       "        vertical-align: top;\n",
       "    }\n",
       "\n",
       "    .dataframe thead th {\n",
       "        text-align: right;\n",
       "    }\n",
       "</style>\n",
       "<table border=\"1\" class=\"dataframe\">\n",
       "  <thead>\n",
       "    <tr style=\"text-align: right;\">\n",
       "      <th></th>\n",
       "      <th>from</th>\n",
       "      <th>to</th>\n",
       "    </tr>\n",
       "  </thead>\n",
       "  <tbody>\n",
       "    <tr>\n",
       "      <th>26</th>\n",
       "      <td>mesh:D014437</td>\n",
       "      <td>mesh:D012282</td>\n",
       "    </tr>\n",
       "    <tr>\n",
       "      <th>44</th>\n",
       "      <td>mesh:D019074</td>\n",
       "      <td>mesh:D001158</td>\n",
       "    </tr>\n",
       "    <tr>\n",
       "      <th>82</th>\n",
       "      <td>mesh:D006371</td>\n",
       "      <td>mesh:D005741</td>\n",
       "    </tr>\n",
       "    <tr>\n",
       "      <th>83</th>\n",
       "      <td>mesh:D054881</td>\n",
       "      <td>mesh:D012732</td>\n",
       "    </tr>\n",
       "    <tr>\n",
       "      <th>83</th>\n",
       "      <td>mesh:D054881</td>\n",
       "      <td>mesh:D011859</td>\n",
       "    </tr>\n",
       "  </tbody>\n",
       "</table>\n",
       "</div>"
      ],
      "text/plain": [
       "            from            to\n",
       "26  mesh:D014437  mesh:D012282\n",
       "44  mesh:D019074  mesh:D001158\n",
       "82  mesh:D006371  mesh:D005741\n",
       "83  mesh:D054881  mesh:D012732\n",
       "83  mesh:D054881  mesh:D011859"
      ]
     },
     "execution_count": 11,
     "metadata": {},
     "output_type": "execute_result"
    }
   ],
   "source": [
    "relationships.head()"
   ]
  },
  {
   "cell_type": "markdown",
   "metadata": {},
   "source": [
    "## Save files"
   ]
  },
  {
   "cell_type": "code",
   "execution_count": 12,
   "metadata": {},
   "outputs": [],
   "source": [
    "nodes.to_csv(NODE_DIR / node_file_name, index=False)"
   ]
  },
  {
   "cell_type": "code",
   "execution_count": 13,
   "metadata": {},
   "outputs": [],
   "source": [
    "relationships.to_csv(RELATIONSHIP_DIR / relationship_file_name, index=False)"
   ]
  }
 ],
 "metadata": {
  "kernelspec": {
   "display_name": "Python 3 (ipykernel)",
   "language": "python",
   "name": "python3"
  },
  "language_info": {
   "codemirror_mode": {
    "name": "ipython",
    "version": 3
   },
   "file_extension": ".py",
   "mimetype": "text/x-python",
   "name": "python",
   "nbconvert_exporter": "python",
   "pygments_lexer": "ipython3",
   "version": "3.7.12"
  }
 },
 "nbformat": 4,
 "nbformat_minor": 4
}
